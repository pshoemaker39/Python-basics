{
 "cells": [
  {
   "cell_type": "markdown",
   "metadata": {},
   "source": [
    "# Test review\n",
    "\n",
    "- Code snippets\n",
    "- General concepts\n",
    "- Multiple choice (25 questions)\n",
    "\n",
    "## Chapter 2\n",
    "* What is an algorithm?\n",
    "* Software vs hardware\n",
    "* How does the computer \"see\" a program?\n",
    "\n",
    "## Chapter 3 - 5\n",
    "* What is a function?\n",
    "* What are the Python operators?\n",
    "* -Comparison, assignments\n",
    "* Branching (if / else)\n",
    "* Looping\n",
    "* Variables and their rules\n",
    "* -Valid variable names\n",
    "* One, two, multi condition\n",
    "* Data types (Strings, lists, integers, floats)\n",
    "* -name='Doe'\n",
    "* -'John'+name\n",
    "* -' {} '.format(x)\n",
    "* -Properties of lists"
   ]
  },
  {
   "cell_type": "code",
   "execution_count": 1,
   "metadata": {},
   "outputs": [],
   "source": [
    "from IPython.display import Image"
   ]
  },
  {
   "cell_type": "code",
   "execution_count": 4,
   "metadata": {},
   "outputs": [],
   "source": [
    "f = open('test.txt', mode='r+')"
   ]
  },
  {
   "cell_type": "code",
   "execution_count": 5,
   "metadata": {},
   "outputs": [
    {
     "data": {
      "text/plain": [
       "'Some new text[I 20:09:12.257 NotebookApp] Saving file at /401/2 Week - Tuesday.ipynb\\n[I 20:09:24.727 NotebookApp] Saving file at /401/1 Week - Tuesday.ipynb\\n[I 20:13:12.253 NotebookApp] Saving file at /401/2 Week - Tuesday.ipynb\\n[I 20:15:12.774 NotebookApp] Saving file at /401/2 Week - Tuesday.ipynb\\n[I 20:17:12.257 NotebookApp] Saving file at /401/2 Week - Tuesday.ipynb\\n[I 20:19:12.256 NotebookApp] Saving file at /401/2 Week - Tuesday.ipynb\\n[I 20:23:12.273 NotebookApp] Saving file at /401/2 Week - Tuesday.ipynb\\n[I 20:25:12.269 NotebookApp] Saving file at /401/2 Week - Tuesday.ipynb\\n[I 20:27:12.273 NotebookApp] Saving file at /401/2 Week - Tuesday.ipynb\\n[I 20:29:12.268 NotebookApp] Saving file at /401/2 Week - Tuesday.ipynb\\n'"
      ]
     },
     "execution_count": 5,
     "metadata": {},
     "output_type": "execute_result"
    }
   ],
   "source": [
    "f.read()"
   ]
  },
  {
   "cell_type": "code",
   "execution_count": 6,
   "metadata": {},
   "outputs": [
    {
     "data": {
      "text/plain": [
       "9"
      ]
     },
     "execution_count": 6,
     "metadata": {},
     "output_type": "execute_result"
    }
   ],
   "source": [
    "f.write('more text')"
   ]
  },
  {
   "cell_type": "code",
   "execution_count": 8,
   "metadata": {},
   "outputs": [],
   "source": [
    "f.close()"
   ]
  },
  {
   "cell_type": "code",
   "execution_count": 9,
   "metadata": {},
   "outputs": [],
   "source": [
    "f = open('test.txt', mode='r+')"
   ]
  },
  {
   "cell_type": "code",
   "execution_count": 10,
   "metadata": {},
   "outputs": [
    {
     "data": {
      "text/plain": [
       "'Some new text[I 20:09:12.257 NotebookApp] Saving file at /401/2 Week - Tuesday.ipynb\\n[I 20:09:24.727 NotebookApp] Saving file at /401/1 Week - Tuesday.ipynb\\n[I 20:13:12.253 NotebookApp] Saving file at /401/2 Week - Tuesday.ipynb\\n[I 20:15:12.774 NotebookApp] Saving file at /401/2 Week - Tuesday.ipynb\\n[I 20:17:12.257 NotebookApp] Saving file at /401/2 Week - Tuesday.ipynb\\n[I 20:19:12.256 NotebookApp] Saving file at /401/2 Week - Tuesday.ipynb\\n[I 20:23:12.273 NotebookApp] Saving file at /401/2 Week - Tuesday.ipynb\\n[I 20:25:12.269 NotebookApp] Saving file at /401/2 Week - Tuesday.ipynb\\n[I 20:27:12.273 NotebookApp] Saving file at /401/2 Week - Tuesday.ipynb\\n[I 20:29:12.268 NotebookApp] Saving file at /401/2 Week - Tuesday.ipynb\\nmore text'"
      ]
     },
     "execution_count": 10,
     "metadata": {},
     "output_type": "execute_result"
    }
   ],
   "source": [
    "f.read()"
   ]
  },
  {
   "cell_type": "code",
   "execution_count": 11,
   "metadata": {},
   "outputs": [
    {
     "data": {
      "text/plain": [
       "_io.TextIOWrapper"
      ]
     },
     "execution_count": 11,
     "metadata": {},
     "output_type": "execute_result"
    }
   ],
   "source": [
    "type(f)"
   ]
  },
  {
   "cell_type": "code",
   "execution_count": 13,
   "metadata": {},
   "outputs": [
    {
     "data": {
      "text/plain": [
       "''"
      ]
     },
     "execution_count": 13,
     "metadata": {},
     "output_type": "execute_result"
    }
   ],
   "source": [
    "f = open('test.txt', mode='wb')\n",
    "f.close()\n",
    "f = open('test.txt', mode='r+')\n",
    "f.read()\n",
    "f.close()"
   ]
  },
  {
   "cell_type": "code",
   "execution_count": 14,
   "metadata": {},
   "outputs": [],
   "source": [
    "string = 'Some new text[I 20:09:12.257 NotebookApp] Saving file at /401/2 Week - Tuesday.ipynb\\n[I 20:09:24.727 NotebookApp] Saving file at /401/1 Week - Tuesday.ipynb\\n[I 20:13:12.253 NotebookApp] Saving file at /401/2 Week - Tuesday.ipynb\\n[I 20:15:12.774 NotebookApp] Saving file at /401/2 Week - Tuesday.ipynb\\n[I 20:17:12.257 NotebookApp] Saving file at /401/2 Week - Tuesday.ipynb\\n[I 20:19:12.256 NotebookApp] Saving file at /401/2 Week - Tuesday.ipynb\\n[I 20:23:12.273 NotebookApp] Saving file at /401/2 Week - Tuesday.ipynb\\n[I 20:25:12.269 NotebookApp] Saving file at /401/2 Week - Tuesday.ipynb\\n[I 20:27:12.273 NotebookApp] Saving file at /401/2 Week - Tuesday.ipynb\\n[I 20:29:12.268 NotebookApp] Saving file at /401/2 Week - Tuesday.ipynb\\nmore text'"
   ]
  },
  {
   "cell_type": "code",
   "execution_count": 18,
   "metadata": {},
   "outputs": [
    {
     "data": {
      "text/plain": [
       "'Some new text[I 20:09:12.257 NotebookApp] Saving file at /401/2 Week - Tuesday.ipynb\\n[I 20:09:24.727 NotebookApp] Saving file at /401/1 Week - Tuesday.ipynb\\n[I 20:13:12.253 NotebookApp] Saving file at /401/2 Week - Tuesday.ipynb\\n[I 20:15:12.774 NotebookApp] Saving file at /401/2 Week - Tuesday.ipynb\\n[I 20:17:12.257 NotebookApp] Saving file at /401/2 Week - Tuesday.ipynb\\n[I 20:19:12.256 NotebookApp] Saving file at /401/2 Week - Tuesday.ipynb\\n[I 20:23:12.273 NotebookApp] Saving file at /401/2 Week - Tuesday.ipynb\\n[I 20:25:12.269 NotebookApp] Saving file at /401/2 Week - Tuesday.ipynb\\n[I 20:27:12.273 NotebookApp] Saving file at /401/2 Week - Tuesday.ipynb\\n[I 20:29:12.268 NotebookApp] Saving file at /401/2 Week - Tuesday.ipynb\\nmore text'"
      ]
     },
     "execution_count": 18,
     "metadata": {},
     "output_type": "execute_result"
    }
   ],
   "source": [
    "f = open('test.txt', mode='r+')\n",
    "f.write(string)\n",
    "f.read()\n",
    "f.close()\n",
    "f = open('test.txt', mode='r+')\n",
    "f.read()"
   ]
  },
  {
   "cell_type": "code",
   "execution_count": 26,
   "metadata": {},
   "outputs": [],
   "source": [
    "try:\n",
    "    'djflksdj'+8\n",
    "except:\n",
    "    pass"
   ]
  },
  {
   "cell_type": "code",
   "execution_count": 49,
   "metadata": {},
   "outputs": [],
   "source": [
    "def stats():\n",
    "    fileName = input('Filename: ')\n",
    "    \n",
    "    fileString = open(fileName, mode='r')\n",
    "    fileString = fileString.read()\n",
    "    \n",
    "    lines = fileString.count('\\n')+1\n",
    "    words = lenfileString.split()\n",
    "    chars = len(fileString)\n",
    "    \n",
    "    print('Lines: {}, Words: {}, Characters: {}'.format(lines, words, chars))"
   ]
  },
  {
   "cell_type": "code",
   "execution_count": 51,
   "metadata": {},
   "outputs": [
    {
     "name": "stdout",
     "output_type": "stream",
     "text": [
      "Filename: test.txt\n",
      "Lines: 10, Words: 95, Characters: 742\n",
      "CPU times: user 2.93 ms, sys: 2.1 ms, total: 5.03 ms\n",
      "Wall time: 4.07 s\n"
     ]
    }
   ],
   "source": [
    "time stats()"
   ]
  },
  {
   "cell_type": "code",
   "execution_count": 54,
   "metadata": {},
   "outputs": [],
   "source": [
    "def stats2():\n",
    "    fileName = input('Filename: ')\n",
    "    \n",
    "    fileString = open(fileName)\n",
    "    data = fileString.readlines()\n",
    "    lineCount = len(data)\n",
    "    wordCount = 0\n",
    "    charCount = 0\n",
    "    for line in data:\n",
    "        charCount += len(line)\n",
    "        temp = line.split()\n",
    "        wordCount += len(temp)\n",
    "    print('Lines: {}, Words: {}, Characters: {}'.format(lineCount, wordCount, charCount))"
   ]
  },
  {
   "cell_type": "code",
   "execution_count": 56,
   "metadata": {},
   "outputs": [
    {
     "name": "stdout",
     "output_type": "stream",
     "text": [
      "Filename: test.txt\n",
      "Lines: 11, Words: 104, Characters: 742\n",
      "CPU times: user 3.47 ms, sys: 2.23 ms, total: 5.71 ms\n",
      "Wall time: 4.52 s\n"
     ]
    }
   ],
   "source": [
    "time stats2()"
   ]
  },
  {
   "cell_type": "code",
   "execution_count": null,
   "metadata": {},
   "outputs": [],
   "source": []
  }
 ],
 "metadata": {
  "kernelspec": {
   "display_name": "Python 3",
   "language": "python",
   "name": "python3"
  },
  "language_info": {
   "codemirror_mode": {
    "name": "ipython",
    "version": 3
   },
   "file_extension": ".py",
   "mimetype": "text/x-python",
   "name": "python",
   "nbconvert_exporter": "python",
   "pygments_lexer": "ipython3",
   "version": "3.6.0"
  }
 },
 "nbformat": 4,
 "nbformat_minor": 2
}
