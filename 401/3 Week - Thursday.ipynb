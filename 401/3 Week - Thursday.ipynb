{
 "cells": [
  {
   "cell_type": "code",
   "execution_count": 1,
   "metadata": {},
   "outputs": [],
   "source": [
    "import random"
   ]
  },
  {
   "cell_type": "code",
   "execution_count": 2,
   "metadata": {},
   "outputs": [],
   "source": [
    "names = ['Ann', 'Bob', 'Cal', 'Dee', 'Eve', 'Flo', 'Hal', 'Ike']"
   ]
  },
  {
   "cell_type": "code",
   "execution_count": 3,
   "metadata": {},
   "outputs": [],
   "source": [
    "random.shuffle(names)"
   ]
  },
  {
   "cell_type": "code",
   "execution_count": 4,
   "metadata": {},
   "outputs": [
    {
     "data": {
      "text/plain": [
       "['Bob', 'Flo', 'Ann', 'Hal', 'Dee', 'Eve', 'Ike', 'Cal']"
      ]
     },
     "execution_count": 4,
     "metadata": {},
     "output_type": "execute_result"
    }
   ],
   "source": [
    "names"
   ]
  },
  {
   "cell_type": "code",
   "execution_count": 6,
   "metadata": {},
   "outputs": [
    {
     "data": {
      "text/plain": [
       "'Hal'"
      ]
     },
     "execution_count": 6,
     "metadata": {},
     "output_type": "execute_result"
    }
   ],
   "source": [
    "random.choice(names)"
   ]
  },
  {
   "cell_type": "code",
   "execution_count": 8,
   "metadata": {},
   "outputs": [
    {
     "data": {
      "text/plain": [
       "['Hal', 'Bob']"
      ]
     },
     "execution_count": 8,
     "metadata": {},
     "output_type": "execute_result"
    }
   ],
   "source": [
    "random.sample(names, 2)"
   ]
  },
  {
   "cell_type": "code",
   "execution_count": 12,
   "metadata": {},
   "outputs": [],
   "source": [
    "def diceProb(r):\n",
    "    dieFace = [1,2,3,4,5,6]\n",
    "    rollCount = 0\n",
    "    rollTotal = 0\n",
    "    \n",
    "    while rollCount <= 100:\n",
    "        die1 = random.choice(dieFace)\n",
    "        die2 = random.choice(dieFace)\n",
    "        \n",
    "        dieTotal = die1 + die2\n",
    "        \n",
    "        if(dieTotal == r):\n",
    "            rollCount +=1\n",
    "        \n",
    "        rollTotal +=1\n",
    "        \n",
    "    print('It took {} to get 100 rolls of {}.'.format(rollTotal, r))"
   ]
  },
  {
   "cell_type": "code",
   "execution_count": 10,
   "metadata": {},
   "outputs": [
    {
     "name": "stdout",
     "output_type": "stream",
     "text": [
      "Value 2-12:0\n",
      "invalid\n",
      "Value 2-12:3\n"
     ]
    }
   ],
   "source": [
    "target = int(input(\"Value 2-12:\"))\n",
    "\n",
    "while target < 2 or target > 12:\n",
    "    print(\"invalid\")\n",
    "    target = int(input(\"Value 2-12:\"))"
   ]
  },
  {
   "cell_type": "code",
   "execution_count": 13,
   "metadata": {},
   "outputs": [
    {
     "name": "stdout",
     "output_type": "stream",
     "text": [
      "Value 2-12:5\n",
      "It took 877 to get 100 rolls of 5.\n"
     ]
    }
   ],
   "source": [
    "diceProb(int(input(\"Value 2-12:\")))"
   ]
  },
  {
   "cell_type": "code",
   "execution_count": 16,
   "metadata": {},
   "outputs": [],
   "source": [
    "def diceProb2(r):\n",
    "#     dieFace = [1,2,3,4,5,6]\n",
    "    rollCount = 0\n",
    "    rollTotal = 0\n",
    "    \n",
    "    while rollCount <= 100:\n",
    "        die1 = random.randrange(1,7)\n",
    "        die2 = random.randrange(1,7)\n",
    "#         die1 = random.choice(dieFace)\n",
    "#         die2 = random.choice(dieFace)\n",
    "        \n",
    "        dieTotal = die1 + die2\n",
    "        \n",
    "        if(dieTotal == r):\n",
    "            rollCount +=1\n",
    "        \n",
    "        rollTotal +=1\n",
    "        \n",
    "    print('It took {} to get 100 rolls of {}.'.format(rollTotal, r))"
   ]
  },
  {
   "cell_type": "code",
   "execution_count": 17,
   "metadata": {},
   "outputs": [
    {
     "name": "stdout",
     "output_type": "stream",
     "text": [
      "Value 2-12:6\n",
      "It took 786 to get 100 rolls of 6.\n"
     ]
    }
   ],
   "source": [
    "diceProb2(int(input(\"Value 2-12:\")))"
   ]
  },
  {
   "cell_type": "code",
   "execution_count": 45,
   "metadata": {},
   "outputs": [],
   "source": [
    "class Team(object):\n",
    "    def __init__(self, name=None, logo=None, members=0):\n",
    "        self.name = name\n",
    "        self.logo = logo\n",
    "        self.members = members\n",
    "        \n",
    "    def getTeamAndMembers(self):\n",
    "        return (self.name+' '+str(self.members))\n",
    "\n",
    "    def setTeamAndMembers(self, name, members):\n",
    "        self.name = name\n",
    "        self.members = members\n",
    "        \n",
    "team = Team(\"Oscar\", \"http://...\", 10)\n",
    "\n",
    "team2 = Team()\n",
    "team2.name = \"Fred\"\n",
    "\n",
    "team3 = Team(name=\"Joe\", members=10)"
   ]
  },
  {
   "cell_type": "code",
   "execution_count": 46,
   "metadata": {},
   "outputs": [
    {
     "data": {
      "text/plain": [
       "'Joe 10'"
      ]
     },
     "execution_count": 46,
     "metadata": {},
     "output_type": "execute_result"
    }
   ],
   "source": [
    "team3.getTeamAndMembers()"
   ]
  },
  {
   "cell_type": "code",
   "execution_count": 47,
   "metadata": {},
   "outputs": [],
   "source": [
    "team3.setTeamAndMembers('This team', 100)"
   ]
  },
  {
   "cell_type": "code",
   "execution_count": 48,
   "metadata": {},
   "outputs": [
    {
     "data": {
      "text/plain": [
       "'This team 100'"
      ]
     },
     "execution_count": 48,
     "metadata": {},
     "output_type": "execute_result"
    }
   ],
   "source": [
    "team3.getTeamAndMembers()"
   ]
  },
  {
   "cell_type": "code",
   "execution_count": 49,
   "metadata": {},
   "outputs": [
    {
     "data": {
      "text/plain": [
       "__main__.Team"
      ]
     },
     "execution_count": 49,
     "metadata": {},
     "output_type": "execute_result"
    }
   ],
   "source": [
    "type(team3)"
   ]
  },
  {
   "cell_type": "code",
   "execution_count": 53,
   "metadata": {},
   "outputs": [
    {
     "name": "stdout",
     "output_type": "stream",
     "text": [
      "600\n"
     ]
    }
   ],
   "source": [
    "##EXAM QUESTION\n",
    "\n",
    "def f(b):\n",
    "    global a\n",
    "    a = 6\n",
    "    return a*b\n",
    "a = 0\n",
    "\n",
    "print(f(100))"
   ]
  },
  {
   "cell_type": "code",
   "execution_count": 54,
   "metadata": {},
   "outputs": [],
   "source": [
    "#psCSC401 | testAWSdb00112233 | thisdbname100 | 3306"
   ]
  },
  {
   "cell_type": "code",
   "execution_count": null,
   "metadata": {},
   "outputs": [],
   "source": [
    "\n",
    "import pymysql.cursors\n",
    "\n",
    "# Connect to the database\n",
    "connection = pymysql.connect(host='localhost',\n",
    "                             user='user',\n",
    "                             password='passwd',\n",
    "                             db='db',\n",
    "                             charset='utf8mb4',\n",
    "                             cursorclass=pymysql.cursors.DictCursor)\n",
    "\n",
    "try:\n",
    "    with connection.cursor() as cursor:\n",
    "        # Create a new record\n",
    "        sql = \"INSERT INTO `users` (`email`, `password`) VALUES (%s, %s)\"\n",
    "        cursor.execute(sql, ('webmaster@python.org', 'very-secret'))\n",
    "\n",
    "    # connection is not autocommit by default. So you must commit to save\n",
    "    # your changes.\n",
    "    connection.commit()\n",
    "\n",
    "    with connection.cursor() as cursor:\n",
    "        # Read a single record\n",
    "        sql = \"SELECT `id`, `password` FROM `users` WHERE `email`=%s\"\n",
    "        cursor.execute(sql, ('webmaster@python.org',))\n",
    "        result = cursor.fetchone()\n",
    "        print(result)\n",
    "finally:\n",
    "    connection.close()"
   ]
  },
  {
   "cell_type": "code",
   "execution_count": 1,
   "metadata": {},
   "outputs": [],
   "source": [
    "import os"
   ]
  },
  {
   "cell_type": "code",
   "execution_count": 2,
   "metadata": {},
   "outputs": [
    {
     "name": "stdout",
     "output_type": "stream",
     "text": [
      "environ({'rvm_bin_path': '/Users/priceshoemaker/.rvm/bin', 'TERM_PROGRAM': 'Apple_Terminal', 'GEM_HOME': '/Users/priceshoemaker/.rvm/gems/ruby-2.4.1', 'SHELL': '/bin/bash', 'TERM': 'xterm-color', 'IRBRC': '/Users/priceshoemaker/.rvm/rubies/ruby-2.4.1/.irbrc', 'TMPDIR': '/var/folders/rc/44d2wxx57yx1634zzkr7wz140000gn/T/', 'Apple_PubSub_Socket_Render': '/private/tmp/com.apple.launchd.eKK5Ikhho0/Render', 'TERM_PROGRAM_VERSION': '404', 'OLDPWD': '/Users/priceshoemaker/Documents/dev/depaul', 'MY_RUBY_HOME': '/Users/priceshoemaker/.rvm/rubies/ruby-2.4.1', 'TERM_SESSION_ID': '64CC9869-7E8F-499A-B467-7A6B03B351AD', 'USER': 'priceshoemaker', '_system_type': 'Darwin', 'rvm_path': '/Users/priceshoemaker/.rvm', 'SSH_AUTH_SOCK': '/private/tmp/com.apple.launchd.I4wCiDK67o/Listeners', 'rvm_prefix': '/Users/priceshoemaker', 'PATH': '/Library/Frameworks/Python.framework/Versions/3.6/bin:/Library/Frameworks/Python.framework/Versions/3.6/bin:/Users/priceshoemaker/.rvm/gems/ruby-2.4.1/bin:/Users/priceshoemaker/.rvm/gems/ruby-2.4.1@global/bin:/Users/priceshoemaker/.rvm/rubies/ruby-2.4.1/bin:/Users/priceshoemaker/.rbenv/shims:/usr/local/bin:/usr/bin:/bin:/usr/sbin:/sbin:/Applications/Postgres.app/Contents/Versions/latest/bin:/Users/priceshoemaker/.rvm/bin', 'PWD': '/Users/priceshoemaker/Documents/dev/depaul/401', 'LANG': 'en_US.UTF-8', '_system_arch': 'x86_64', 'XPC_FLAGS': '0x0', '_system_version': '10.13', 'RBENV_SHELL': 'bash', 'XPC_SERVICE_NAME': '0', 'rvm_version': '1.29.3 (latest)', 'SHLVL': '1', 'HOME': '/Users/priceshoemaker', 'LOGNAME': 'priceshoemaker', 'GEM_PATH': '/Users/priceshoemaker/.rvm/gems/ruby-2.4.1:/Users/priceshoemaker/.rvm/gems/ruby-2.4.1@global', 'RUBY_VERSION': 'ruby-2.4.1', '_system_name': 'OSX', '_': '/Library/Frameworks/Python.framework/Versions/3.6/bin/jupyter', '__CF_USER_TEXT_ENCODING': '0x1F5:0x0:0x0', '__PYVENV_LAUNCHER__': '/Library/Frameworks/Python.framework/Versions/3.6/bin/python3.6', 'JPY_PARENT_PID': '3576', 'CLICOLOR': '1', 'PAGER': 'cat', 'GIT_PAGER': 'cat', 'MPLBACKEND': 'module://ipykernel.pylab.backend_inline'})\n"
     ]
    }
   ],
   "source": [
    "print(os.environ)"
   ]
  },
  {
   "cell_type": "code",
   "execution_count": null,
   "metadata": {},
   "outputs": [],
   "source": []
  }
 ],
 "metadata": {
  "kernelspec": {
   "display_name": "Python 3",
   "language": "python",
   "name": "python3"
  },
  "language_info": {
   "codemirror_mode": {
    "name": "ipython",
    "version": 3
   },
   "file_extension": ".py",
   "mimetype": "text/x-python",
   "name": "python",
   "nbconvert_exporter": "python",
   "pygments_lexer": "ipython3",
   "version": "3.6.0"
  }
 },
 "nbformat": 4,
 "nbformat_minor": 2
}
