{
 "cells": [
  {
   "cell_type": "markdown",
   "metadata": {},
   "source": [
    "# Class Example\n",
    "\n",
    "Poblem 1\n",
    "\n",
    "(Function)\n",
    "\n",
    "Interest on a credit card’s unpaid balance is calculated using the average daily balance. Suppose that the netBalance is the balance shown in the bill, payment is the payment made. d1 is the number of days in the billing cycle, and d2 is the number of days’ payment is made before the billing cycle. Then, the average daily balance is:\n",
    "\n",
    "averageDailyBalance = (netBalance * d1 – payment * d2)/d1\n",
    "\n",
    "if the interest rate per month is, say 0.0152, then the interest on the unpaid balance is:\n",
    "\n",
    "interest = averageDailyBalance * 0.0152\n",
    "\n",
    "Write a program that accepts as input netBalance, payment, d1, d2, and interest rate per month. The program outputs the interest.\n",
    "\n",
    "The program must use a function, calAverageDailyBal, to calculate and return averageDailyBalance.\n",
    "\n",
    "Problem2\n",
    "\n",
    "(If/else)\n",
    "\n",
    "A box of cookies can hold 24 cookies, and a container can hold 75 boxes of cookies. \n",
    "Write a program that prompts the user to enter the total number of cookies. \n",
    "The program then outputs the number of boxes and the number of containers to ship the cookies. \n",
    "If the last box is not a full box, discard it and output the number of leftover cookies. \n",
    "Similarly, if the last container contains less than the number of specified boxes, you can discard it and output the number of leftover boxes"
   ]
  },
  {
   "cell_type": "code",
   "execution_count": 2,
   "metadata": {},
   "outputs": [],
   "source": [
    "#Problem 1\n",
    "def calAverageDailyBal(netBalance, payment, d1, d2, interest):\n",
    "    \n",
    "    averageDailyBalance\n",
    "    \n",
    "    return(averageDailyBalance)"
   ]
  },
  {
   "cell_type": "code",
   "execution_count": 3,
   "metadata": {},
   "outputs": [],
   "source": [
    "#Problem 2"
   ]
  },
  {
   "cell_type": "code",
   "execution_count": null,
   "metadata": {},
   "outputs": [],
   "source": []
  }
 ],
 "metadata": {
  "kernelspec": {
   "display_name": "Python 3",
   "language": "python",
   "name": "python3"
  },
  "language_info": {
   "codemirror_mode": {
    "name": "ipython",
    "version": 3
   },
   "file_extension": ".py",
   "mimetype": "text/x-python",
   "name": "python",
   "nbconvert_exporter": "python",
   "pygments_lexer": "ipython3",
   "version": "3.7.0"
  }
 },
 "nbformat": 4,
 "nbformat_minor": 2
}
