{
 "cells": [
  {
   "cell_type": "code",
   "execution_count": 15,
   "metadata": {},
   "outputs": [],
   "source": [
    "#3.25\n",
    "\n",
    "def amChecker(lst):\n",
    "    for l in lst:\n",
    "        if(int(ord(l[0]) > 64) | int(ord(l[0]) < 78)):\n",
    "            print(ord)\n",
    "            print(l)\n"
   ]
  },
  {
   "cell_type": "code",
   "execution_count": 16,
   "metadata": {},
   "outputs": [],
   "source": [
    "lst = ['Ellie', 'Steve', 'Sam', 'Owen', 'Gavin','Zebra']"
   ]
  },
  {
   "cell_type": "code",
   "execution_count": 17,
   "metadata": {},
   "outputs": [
    {
     "name": "stdout",
     "output_type": "stream",
     "text": [
      "E\n",
      "Ellie\n",
      "S\n",
      "Steve\n",
      "S\n",
      "Sam\n",
      "O\n",
      "Owen\n",
      "G\n",
      "Gavin\n",
      "Z\n",
      "Zebra\n"
     ]
    }
   ],
   "source": [
    "amChecker(lst)"
   ]
  },
  {
   "cell_type": "code",
   "execution_count": null,
   "metadata": {},
   "outputs": [],
   "source": []
  }
 ],
 "metadata": {
  "kernelspec": {
   "display_name": "Python 3",
   "language": "python",
   "name": "python3"
  },
  "language_info": {
   "codemirror_mode": {
    "name": "ipython",
    "version": 3
   },
   "file_extension": ".py",
   "mimetype": "text/x-python",
   "name": "python",
   "nbconvert_exporter": "python",
   "pygments_lexer": "ipython3",
   "version": "3.6.0"
  }
 },
 "nbformat": 4,
 "nbformat_minor": 2
}
