{
 "cells": [
  {
   "cell_type": "code",
   "execution_count": 1,
   "metadata": {},
   "outputs": [],
   "source": [
    "import random"
   ]
  },
  {
   "cell_type": "code",
   "execution_count": 2,
   "metadata": {},
   "outputs": [],
   "source": [
    "names = ['Ann', 'Bob', 'Cal', 'Dee', 'Eve', 'Flo', 'Hal', 'Ike']"
   ]
  },
  {
   "cell_type": "code",
   "execution_count": 3,
   "metadata": {},
   "outputs": [],
   "source": [
    "random.shuffle(names)"
   ]
  },
  {
   "cell_type": "code",
   "execution_count": 4,
   "metadata": {},
   "outputs": [
    {
     "data": {
      "text/plain": [
       "['Bob', 'Flo', 'Ann', 'Hal', 'Dee', 'Eve', 'Ike', 'Cal']"
      ]
     },
     "execution_count": 4,
     "metadata": {},
     "output_type": "execute_result"
    }
   ],
   "source": [
    "names"
   ]
  },
  {
   "cell_type": "code",
   "execution_count": 6,
   "metadata": {},
   "outputs": [
    {
     "data": {
      "text/plain": [
       "'Hal'"
      ]
     },
     "execution_count": 6,
     "metadata": {},
     "output_type": "execute_result"
    }
   ],
   "source": [
    "random.choice(names)"
   ]
  },
  {
   "cell_type": "code",
   "execution_count": 8,
   "metadata": {},
   "outputs": [
    {
     "data": {
      "text/plain": [
       "['Hal', 'Bob']"
      ]
     },
     "execution_count": 8,
     "metadata": {},
     "output_type": "execute_result"
    }
   ],
   "source": [
    "random.sample(names, 2)"
   ]
  },
  {
   "cell_type": "code",
   "execution_count": 12,
   "metadata": {},
   "outputs": [],
   "source": [
    "def diceProb(r):\n",
    "    dieFace = [1,2,3,4,5,6]\n",
    "    rollCount = 0\n",
    "    rollTotal = 0\n",
    "    \n",
    "    while rollCount <= 100:\n",
    "        die1 = random.choice(dieFace)\n",
    "        die2 = random.choice(dieFace)\n",
    "        \n",
    "        dieTotal = die1 + die2\n",
    "        \n",
    "        if(dieTotal == r):\n",
    "            rollCount +=1\n",
    "        \n",
    "        rollTotal +=1\n",
    "        \n",
    "    print('It took {} to get 100 rolls of {}.'.format(rollTotal, r))"
   ]
  },
  {
   "cell_type": "code",
   "execution_count": 10,
   "metadata": {},
   "outputs": [
    {
     "name": "stdout",
     "output_type": "stream",
     "text": [
      "Value 2-12:0\n",
      "invalid\n",
      "Value 2-12:3\n"
     ]
    }
   ],
   "source": [
    "target = int(input(\"Value 2-12:\"))\n",
    "\n",
    "while target < 2 or target > 12:\n",
    "    print(\"invalid\")\n",
    "    target = int(input(\"Value 2-12:\"))"
   ]
  },
  {
   "cell_type": "code",
   "execution_count": 13,
   "metadata": {},
   "outputs": [
    {
     "name": "stdout",
     "output_type": "stream",
     "text": [
      "Value 2-12:5\n",
      "It took 877 to get 100 rolls of 5.\n"
     ]
    }
   ],
   "source": [
    "diceProb(int(input(\"Value 2-12:\")))"
   ]
  },
  {
   "cell_type": "code",
   "execution_count": 16,
   "metadata": {},
   "outputs": [],
   "source": [
    "def diceProb2(r):\n",
    "#     dieFace = [1,2,3,4,5,6]\n",
    "    rollCount = 0\n",
    "    rollTotal = 0\n",
    "    \n",
    "    while rollCount <= 100:\n",
    "        die1 = random.randrange(1,7)\n",
    "        die2 = random.randrange(1,7)\n",
    "#         die1 = random.choice(dieFace)\n",
    "#         die2 = random.choice(dieFace)\n",
    "        \n",
    "        dieTotal = die1 + die2\n",
    "        \n",
    "        if(dieTotal == r):\n",
    "            rollCount +=1\n",
    "        \n",
    "        rollTotal +=1\n",
    "        \n",
    "    print('It took {} to get 100 rolls of {}.'.format(rollTotal, r))"
   ]
  },
  {
   "cell_type": "code",
   "execution_count": 17,
   "metadata": {},
   "outputs": [
    {
     "name": "stdout",
     "output_type": "stream",
     "text": [
      "Value 2-12:6\n",
      "It took 786 to get 100 rolls of 6.\n"
     ]
    }
   ],
   "source": [
    "diceProb2(int(input(\"Value 2-12:\")))"
   ]
  },
  {
   "cell_type": "code",
   "execution_count": 40,
   "metadata": {},
   "outputs": [],
   "source": [
    "class Team(object):\n",
    "    def __init__(self, name=None, logo=None, members=0):\n",
    "        self.name = name\n",
    "        self.logo = logo\n",
    "        self.members = members\n",
    "        \n",
    "    def getTeamAndMembers(self):\n",
    "        return (self.name+' '+str(self.members))\n",
    "\n",
    "    def setTeamAndMembers(name, members):\n",
    "        self.name = name\n",
    "        self.members = members\n",
    "        \n",
    "team = Team(\"Oscar\", \"http://...\", 10)\n",
    "\n",
    "team2 = Team()\n",
    "team2.name = \"Fred\"\n",
    "\n",
    "team3 = Team(name=\"Joe\", members=10)"
   ]
  },
  {
   "cell_type": "code",
   "execution_count": 41,
   "metadata": {},
   "outputs": [
    {
     "data": {
      "text/plain": [
       "'Joe 10'"
      ]
     },
     "execution_count": 41,
     "metadata": {},
     "output_type": "execute_result"
    }
   ],
   "source": [
    "team3.getTeamAndMembers()"
   ]
  },
  {
   "cell_type": "code",
   "execution_count": null,
   "metadata": {},
   "outputs": [],
   "source": []
  }
 ],
 "metadata": {
  "kernelspec": {
   "display_name": "Python 3",
   "language": "python",
   "name": "python3"
  },
  "language_info": {
   "codemirror_mode": {
    "name": "ipython",
    "version": 3
   },
   "file_extension": ".py",
   "mimetype": "text/x-python",
   "name": "python",
   "nbconvert_exporter": "python",
   "pygments_lexer": "ipython3",
   "version": "3.6.0"
  }
 },
 "nbformat": 4,
 "nbformat_minor": 2
}
