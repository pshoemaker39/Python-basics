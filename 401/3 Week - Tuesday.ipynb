{
 "cells": [
  {
   "cell_type": "code",
   "execution_count": 25,
   "metadata": {},
   "outputs": [],
   "source": [
    "def cities2():\n",
    "    lst = []\n",
    "\n",
    "    while True:\n",
    "        city = input('Enter city: ')\n",
    "\n",
    "        if city == '':\n",
    "            #return lst\n",
    "            break\n",
    "\n",
    "        lst.append(city)\n",
    "    return lst"
   ]
  },
  {
   "cell_type": "code",
   "execution_count": 26,
   "metadata": {},
   "outputs": [
    {
     "name": "stdout",
     "output_type": "stream",
     "text": [
      "Enter city: chicago\n",
      "Enter city: \n"
     ]
    },
    {
     "data": {
      "text/plain": [
       "['chicago']"
      ]
     },
     "execution_count": 26,
     "metadata": {},
     "output_type": "execute_result"
    }
   ],
   "source": [
    "cities2()"
   ]
  },
  {
   "cell_type": "code",
   "execution_count": 39,
   "metadata": {},
   "outputs": [],
   "source": [
    "table = [[2, 3, 0, 6],[0, 3, 4, 5],[4, 5, 6, 0]]"
   ]
  },
  {
   "cell_type": "code",
   "execution_count": 40,
   "metadata": {},
   "outputs": [],
   "source": [
    "def ignore0(table):\n",
    "    for row in table:\n",
    "        \n",
    "        for num in row:\n",
    "            \n",
    "            if num == 0:\n",
    "                continue\n",
    "                \n",
    "            print(num, end=' ')\n",
    "                  \n",
    "        print() "
   ]
  },
  {
   "cell_type": "code",
   "execution_count": 41,
   "metadata": {},
   "outputs": [
    {
     "name": "stdout",
     "output_type": "stream",
     "text": [
      "2 3 6 \n",
      "3 4 5 \n",
      "4 5 6 \n"
     ]
    }
   ],
   "source": [
    "ignore0(table)"
   ]
  },
  {
   "cell_type": "code",
   "execution_count": 55,
   "metadata": {},
   "outputs": [
    {
     "name": "stdout",
     "output_type": "stream",
     "text": [
      "Number? -1\n"
     ]
    }
   ],
   "source": [
    "value = int(input(\"Number? \"))\n",
    "\n",
    "while value != -1:\n",
    "    \n",
    "    if value % 2 == 0:\n",
    "        \n",
    "        value += 10\n",
    "        \n",
    "    elif value == 0:\n",
    "        \n",
    "        print(\"value is 0\")\n",
    "        \n",
    "        continue\n",
    "        \n",
    "    else: \n",
    "        \n",
    "        value += 5\n",
    "        \n",
    "    print(\"value: {}\".format(value))\n",
    "    \n",
    "    value = int(input(\"Number? \"))\n",
    "    "
   ]
  },
  {
   "cell_type": "code",
   "execution_count": 78,
   "metadata": {},
   "outputs": [],
   "source": [
    "data = {\n",
    "    '864-20-9753':['Anna', 'Karenina'],\n",
    "    '987-65-4321':['Yu', 'Tsun'],\n",
    "    '100-01-0010':['Hans', 'Castorp'],\n",
    "    '001': ['abc', 'edf'],\n",
    "    '001': ['xyz', 'aaa']\n",
    "}"
   ]
  },
  {
   "cell_type": "code",
   "execution_count": 79,
   "metadata": {},
   "outputs": [
    {
     "data": {
      "text/plain": [
       "{'864-20-9753': ['Anna', 'Karenina'],\n",
       " '987-65-4321': ['Yu', 'Tsun'],\n",
       " '100-01-0010': ['Hans', 'Castorp'],\n",
       " '001': ['xyz', 'aaa']}"
      ]
     },
     "execution_count": 79,
     "metadata": {},
     "output_type": "execute_result"
    }
   ],
   "source": [
    "data"
   ]
  },
  {
   "cell_type": "code",
   "execution_count": 57,
   "metadata": {},
   "outputs": [
    {
     "data": {
      "text/plain": [
       "dict_keys(['864-20-9753', '987-65-4321', '100-01-0010'])"
      ]
     },
     "execution_count": 57,
     "metadata": {},
     "output_type": "execute_result"
    }
   ],
   "source": [
    "data.keys()"
   ]
  },
  {
   "cell_type": "code",
   "execution_count": 58,
   "metadata": {},
   "outputs": [
    {
     "data": {
      "text/plain": [
       "dict_items([('864-20-9753', ['Anna', 'Karenina']), ('987-65-4321', ['Yu', 'Tsun']), ('100-01-0010', ['Hans', 'Castorp'])])"
      ]
     },
     "execution_count": 58,
     "metadata": {},
     "output_type": "execute_result"
    }
   ],
   "source": [
    "data.items()"
   ]
  },
  {
   "cell_type": "code",
   "execution_count": 59,
   "metadata": {},
   "outputs": [
    {
     "data": {
      "text/plain": [
       "['Anna', 'Karenina']"
      ]
     },
     "execution_count": 59,
     "metadata": {},
     "output_type": "execute_result"
    }
   ],
   "source": [
    "data['864-20-9753']"
   ]
  },
  {
   "cell_type": "code",
   "execution_count": 60,
   "metadata": {},
   "outputs": [],
   "source": [
    "data.update({'864-20-9753':['Bill', 'Gates']})"
   ]
  },
  {
   "cell_type": "code",
   "execution_count": 61,
   "metadata": {},
   "outputs": [
    {
     "data": {
      "text/plain": [
       "{'864-20-9753': ['Bill', 'Gates'],\n",
       " '987-65-4321': ['Yu', 'Tsun'],\n",
       " '100-01-0010': ['Hans', 'Castorp']}"
      ]
     },
     "execution_count": 61,
     "metadata": {},
     "output_type": "execute_result"
    }
   ],
   "source": [
    "data"
   ]
  },
  {
   "cell_type": "code",
   "execution_count": 62,
   "metadata": {},
   "outputs": [
    {
     "data": {
      "text/plain": [
       "dict_values([['Bill', 'Gates'], ['Yu', 'Tsun'], ['Hans', 'Castorp']])"
      ]
     },
     "execution_count": 62,
     "metadata": {},
     "output_type": "execute_result"
    }
   ],
   "source": [
    "data.values()"
   ]
  },
  {
   "cell_type": "code",
   "execution_count": 74,
   "metadata": {},
   "outputs": [],
   "source": [
    "data.update({'001':['Jane', 'Doe']})\n",
    "data.update({'001':['John', 'Doe']})"
   ]
  },
  {
   "cell_type": "code",
   "execution_count": 75,
   "metadata": {},
   "outputs": [
    {
     "data": {
      "text/plain": [
       "{'864-20-9753': ['Anna', 'Karenina'],\n",
       " '987-65-4321': ['Yu', 'Tsun'],\n",
       " '100-01-0010': ['Hans', 'Castorp'],\n",
       " '001': ['John', 'Doe']}"
      ]
     },
     "execution_count": 75,
     "metadata": {},
     "output_type": "execute_result"
    }
   ],
   "source": [
    "data"
   ]
  },
  {
   "cell_type": "code",
   "execution_count": 69,
   "metadata": {},
   "outputs": [],
   "source": [
    "days = {'Mo': 1, 'Tu': 2, 'Th': 4, 'W': 3}"
   ]
  },
  {
   "cell_type": "code",
   "execution_count": 70,
   "metadata": {},
   "outputs": [],
   "source": [
    "def complete(abbreviation):\n",
    "    'returns day of the week corresponding to abbreviation'\n",
    "\n",
    "    days = {'Mo': 'Monday', 'Tu':'Tuesday', 'We': 'Wednesday',\n",
    "            'Th': 'Thursday', 'Fr': 'Friday', 'Sa': 'Saturday',\n",
    "            'Su':'Sunday'}\n",
    "\n",
    "    return days[abbreviation]"
   ]
  },
  {
   "cell_type": "code",
   "execution_count": 72,
   "metadata": {},
   "outputs": [
    {
     "data": {
      "text/plain": [
       "'Tuesday'"
      ]
     },
     "execution_count": 72,
     "metadata": {},
     "output_type": "execute_result"
    }
   ],
   "source": [
    "complete('Tu')"
   ]
  },
  {
   "cell_type": "markdown",
   "metadata": {},
   "source": [
    "Side PanelExpand side panel\n",
    "Breadcrumb:\n",
    "ExampleProblem_CustData \n",
    "Word Document\n",
    " \n",
    " \n",
    "Example Problem\n",
    "\n",
    "Write a program that reads customer order data from a file. Each customer data contains customer id, order number, product name, type, product category, product quantity, price per item/unit. The program will calculate each customer’s total, total for all orders, and print a tabular report of the orders.\n",
    "\n",
    "Note: The user will provide the name of the file containing customer data."
   ]
  },
  {
   "cell_type": "code",
   "execution_count": 82,
   "metadata": {},
   "outputs": [
    {
     "data": {
      "text/plain": [
       "'123, 00450, paper towel, household, kitchen, 4, 3.50\\n124, 00461, dish detergent, household,kitchen, 6, 15.99 \\n125, 00470, action camera, electronics,cameras, 1, 299.99 \\n126, 00478, laptop, electronics,computers, 2, 549.99 \\n127, 00473, beef, grocery,freezer, 3, 12.99 \\n128, 00453, strawberries , grocery,produce, 2, 3.98 \\n\\n'"
      ]
     },
     "execution_count": 82,
     "metadata": {},
     "output_type": "execute_result"
    }
   ],
   "source": [
    "data = open('custData.txt', mode='r+')\n",
    "data.read()"
   ]
  },
  {
   "cell_type": "code",
   "execution_count": 124,
   "metadata": {},
   "outputs": [
    {
     "name": "stdout",
     "output_type": "stream",
     "text": [
      "Customer: 123 Total: 14.0 \n",
      "Customer: 124 Total: 95.94 \n",
      "Customer: 125 Total: 299.99 \n",
      "Customer: 126 Total: 1099.98 \n",
      "Customer: 127 Total: 38.97 \n",
      "Customer: 128 Total: 7.96 \n",
      " \n",
      "All Customers: 1556.8400000000001\n"
     ]
    }
   ],
   "source": [
    "def getData():\n",
    "    fh = open('custData.txt', mode='r+')\n",
    "    data = fh.readlines()\n",
    "    return data\n",
    "\n",
    "def processData(custInfo):\n",
    "    \n",
    "    r = dict()\n",
    "    \n",
    "    for line in custInfo:    \n",
    "        \n",
    "        custData = line.strip().split(',')\n",
    "        \n",
    "        itemPrice = float(custData[-1])\n",
    "        itemQty = int(custData[-2])\n",
    "        total = itemPrice * itemQty\n",
    "        itemCat = custData[-3].strip()\n",
    "        itemType = custData[-4].strip()\n",
    "        itemName = custData[-5].strip()\n",
    "        orderNum = custData[-6].strip()\n",
    "        _id = custData[-7].strip()\n",
    "        \n",
    "        r[_id] = {\n",
    "            'itemPrice': itemPrice,\n",
    "            'itemQty': itemQty,\n",
    "            'total': total,\n",
    "            'itemCat': itemCat,\n",
    "            'itemType': itemType,\n",
    "            'itemName': itemName,\n",
    "            'orderNum': orderNum\n",
    "        }\n",
    "        \n",
    "    return r\n",
    "\n",
    "def calculations(data):\n",
    "    overallTotal = 0\n",
    "    customerTotal = dict()\n",
    "    customers = []\n",
    "    for x in data.items():\n",
    "        customerTotal[x[0]] = x[1]['total']\n",
    "        overallTotal += x[1]['total']\n",
    "        customers.append(x[0])\n",
    "    \n",
    "    \n",
    "    print(\n",
    "        'Customer: {} Total: {} \\nCustomer: {} Total: {} \\nCustomer: {} Total: {} \\nCustomer: {} Total: {} \\nCustomer: {} Total: {} \\nCustomer: {} Total: {} \\n \\nAll Customers: {}'.format(\n",
    "            customers[0],\n",
    "            customerTotal[customers[0]],\n",
    "            \n",
    "            customers[1],\n",
    "            customerTotal[customers[1]],\n",
    "            \n",
    "            customers[2],\n",
    "            customerTotal[customers[2]],\n",
    "            \n",
    "            customers[3],\n",
    "            customerTotal[customers[3]],\n",
    "            \n",
    "            customers[4],\n",
    "            customerTotal[customers[4]],\n",
    "            \n",
    "            customers[5],\n",
    "            customerTotal[customers[5]],\n",
    "            \n",
    "            overallTotal\n",
    "        )\n",
    "    )\n",
    "    \n",
    "    \n",
    "\n",
    "calculations(processData(getData()))"
   ]
  },
  {
   "cell_type": "code",
   "execution_count": null,
   "metadata": {},
   "outputs": [],
   "source": []
  },
  {
   "cell_type": "code",
   "execution_count": null,
   "metadata": {},
   "outputs": [],
   "source": []
  }
 ],
 "metadata": {
  "kernelspec": {
   "display_name": "Python 3",
   "language": "python",
   "name": "python3"
  },
  "language_info": {
   "codemirror_mode": {
    "name": "ipython",
    "version": 3
   },
   "file_extension": ".py",
   "mimetype": "text/x-python",
   "name": "python",
   "nbconvert_exporter": "python",
   "pygments_lexer": "ipython3",
   "version": "3.6.0"
  }
 },
 "nbformat": 4,
 "nbformat_minor": 2
}
