{
 "cells": [
  {
   "cell_type": "code",
   "execution_count": 25,
   "metadata": {},
   "outputs": [],
   "source": [
    "def cities2():\n",
    "    lst = []\n",
    "\n",
    "    while True:\n",
    "        city = input('Enter city: ')\n",
    "\n",
    "        if city == '':\n",
    "            #return lst\n",
    "            break\n",
    "\n",
    "        lst.append(city)\n",
    "    return lst"
   ]
  },
  {
   "cell_type": "code",
   "execution_count": 26,
   "metadata": {},
   "outputs": [
    {
     "name": "stdout",
     "output_type": "stream",
     "text": [
      "Enter city: chicago\n",
      "Enter city: \n"
     ]
    },
    {
     "data": {
      "text/plain": [
       "['chicago']"
      ]
     },
     "execution_count": 26,
     "metadata": {},
     "output_type": "execute_result"
    }
   ],
   "source": [
    "cities2()"
   ]
  },
  {
   "cell_type": "code",
   "execution_count": 39,
   "metadata": {},
   "outputs": [],
   "source": [
    "table = [[2, 3, 0, 6],[0, 3, 4, 5],[4, 5, 6, 0]]"
   ]
  },
  {
   "cell_type": "code",
   "execution_count": 40,
   "metadata": {},
   "outputs": [],
   "source": [
    "def ignore0(table):\n",
    "    for row in table:\n",
    "        \n",
    "        for num in row:\n",
    "            \n",
    "            if num == 0:\n",
    "                continue\n",
    "                \n",
    "            print(num, end=' ')\n",
    "                  \n",
    "        print() "
   ]
  },
  {
   "cell_type": "code",
   "execution_count": 41,
   "metadata": {},
   "outputs": [
    {
     "name": "stdout",
     "output_type": "stream",
     "text": [
      "2 3 6 \n",
      "3 4 5 \n",
      "4 5 6 \n"
     ]
    }
   ],
   "source": [
    "ignore0(table)"
   ]
  },
  {
   "cell_type": "code",
   "execution_count": 55,
   "metadata": {},
   "outputs": [
    {
     "name": "stdout",
     "output_type": "stream",
     "text": [
      "Number? -1\n"
     ]
    }
   ],
   "source": [
    "value = int(input(\"Number? \"))\n",
    "\n",
    "while value != -1:\n",
    "    \n",
    "    if value % 2 == 0:\n",
    "        \n",
    "        value += 10\n",
    "        \n",
    "    elif value == 0:\n",
    "        \n",
    "        print(\"value is 0\")\n",
    "        \n",
    "        continue\n",
    "        \n",
    "    else: \n",
    "        \n",
    "        value += 5\n",
    "        \n",
    "    print(\"value: {}\".format(value))\n",
    "    \n",
    "    value = int(input(\"Number? \"))\n",
    "    "
   ]
  },
  {
   "cell_type": "code",
   "execution_count": null,
   "metadata": {},
   "outputs": [],
   "source": []
  }
 ],
 "metadata": {
  "kernelspec": {
   "display_name": "Python 3",
   "language": "python",
   "name": "python3"
  },
  "language_info": {
   "codemirror_mode": {
    "name": "ipython",
    "version": 3
   },
   "file_extension": ".py",
   "mimetype": "text/x-python",
   "name": "python",
   "nbconvert_exporter": "python",
   "pygments_lexer": "ipython3",
   "version": "3.6.0"
  }
 },
 "nbformat": 4,
 "nbformat_minor": 2
}
