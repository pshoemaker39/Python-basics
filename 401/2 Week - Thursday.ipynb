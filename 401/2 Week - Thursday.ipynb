{
 "cells": [
  {
   "cell_type": "markdown",
   "metadata": {},
   "source": [
    "# Test review\n",
    "\n",
    "- Code snippets\n",
    "- General concepts\n",
    "- Multiple choice (25 questions)\n",
    "\n",
    "## Chapter 2\n",
    "* What is an algorithm?\n",
    "* Software vs hardware\n",
    "* How does the computer \"see\" a program?\n",
    "\n",
    "## Chapter 3 - 5\n",
    "* What is a function?\n",
    "* What are the Python operators?\n",
    "* -Comparison, assignments\n",
    "* Branching (if / else)\n",
    "* Looping\n",
    "* Variables and their rules\n",
    "* -Valid variable names\n",
    "* One, two, multi condition\n",
    "* Data types (Strings, lists, integers, floats)\n",
    "* -name='Doe'\n",
    "* -'John'+name\n",
    "* -' {} '.format(x)\n",
    "* -Properties of lists"
   ]
  },
  {
   "cell_type": "code",
   "execution_count": 1,
   "metadata": {},
   "outputs": [],
   "source": [
    "from IPython.display import Image"
   ]
  },
  {
   "cell_type": "code",
   "execution_count": 4,
   "metadata": {},
   "outputs": [],
   "source": [
    "f = open('test.txt', mode='r+')"
   ]
  },
  {
   "cell_type": "code",
   "execution_count": 5,
   "metadata": {},
   "outputs": [
    {
     "data": {
      "text/plain": [
       "'Some new text[I 20:09:12.257 NotebookApp] Saving file at /401/2 Week - Tuesday.ipynb\\n[I 20:09:24.727 NotebookApp] Saving file at /401/1 Week - Tuesday.ipynb\\n[I 20:13:12.253 NotebookApp] Saving file at /401/2 Week - Tuesday.ipynb\\n[I 20:15:12.774 NotebookApp] Saving file at /401/2 Week - Tuesday.ipynb\\n[I 20:17:12.257 NotebookApp] Saving file at /401/2 Week - Tuesday.ipynb\\n[I 20:19:12.256 NotebookApp] Saving file at /401/2 Week - Tuesday.ipynb\\n[I 20:23:12.273 NotebookApp] Saving file at /401/2 Week - Tuesday.ipynb\\n[I 20:25:12.269 NotebookApp] Saving file at /401/2 Week - Tuesday.ipynb\\n[I 20:27:12.273 NotebookApp] Saving file at /401/2 Week - Tuesday.ipynb\\n[I 20:29:12.268 NotebookApp] Saving file at /401/2 Week - Tuesday.ipynb\\n'"
      ]
     },
     "execution_count": 5,
     "metadata": {},
     "output_type": "execute_result"
    }
   ],
   "source": [
    "f.read()"
   ]
  },
  {
   "cell_type": "code",
   "execution_count": 6,
   "metadata": {},
   "outputs": [
    {
     "data": {
      "text/plain": [
       "9"
      ]
     },
     "execution_count": 6,
     "metadata": {},
     "output_type": "execute_result"
    }
   ],
   "source": [
    "f.write('more text')"
   ]
  },
  {
   "cell_type": "code",
   "execution_count": 8,
   "metadata": {},
   "outputs": [],
   "source": [
    "f.close()"
   ]
  },
  {
   "cell_type": "code",
   "execution_count": 9,
   "metadata": {},
   "outputs": [],
   "source": [
    "f = open('test.txt', mode='r+')"
   ]
  },
  {
   "cell_type": "code",
   "execution_count": 10,
   "metadata": {},
   "outputs": [
    {
     "data": {
      "text/plain": [
       "'Some new text[I 20:09:12.257 NotebookApp] Saving file at /401/2 Week - Tuesday.ipynb\\n[I 20:09:24.727 NotebookApp] Saving file at /401/1 Week - Tuesday.ipynb\\n[I 20:13:12.253 NotebookApp] Saving file at /401/2 Week - Tuesday.ipynb\\n[I 20:15:12.774 NotebookApp] Saving file at /401/2 Week - Tuesday.ipynb\\n[I 20:17:12.257 NotebookApp] Saving file at /401/2 Week - Tuesday.ipynb\\n[I 20:19:12.256 NotebookApp] Saving file at /401/2 Week - Tuesday.ipynb\\n[I 20:23:12.273 NotebookApp] Saving file at /401/2 Week - Tuesday.ipynb\\n[I 20:25:12.269 NotebookApp] Saving file at /401/2 Week - Tuesday.ipynb\\n[I 20:27:12.273 NotebookApp] Saving file at /401/2 Week - Tuesday.ipynb\\n[I 20:29:12.268 NotebookApp] Saving file at /401/2 Week - Tuesday.ipynb\\nmore text'"
      ]
     },
     "execution_count": 10,
     "metadata": {},
     "output_type": "execute_result"
    }
   ],
   "source": [
    "f.read()"
   ]
  },
  {
   "cell_type": "code",
   "execution_count": 11,
   "metadata": {},
   "outputs": [
    {
     "data": {
      "text/plain": [
       "_io.TextIOWrapper"
      ]
     },
     "execution_count": 11,
     "metadata": {},
     "output_type": "execute_result"
    }
   ],
   "source": [
    "type(f)"
   ]
  },
  {
   "cell_type": "code",
   "execution_count": 13,
   "metadata": {},
   "outputs": [
    {
     "data": {
      "text/plain": [
       "''"
      ]
     },
     "execution_count": 13,
     "metadata": {},
     "output_type": "execute_result"
    }
   ],
   "source": [
    "f = open('test.txt', mode='wb')\n",
    "f.close()\n",
    "f = open('test.txt', mode='r+')\n",
    "f.read()\n",
    "f.close()"
   ]
  },
  {
   "cell_type": "code",
   "execution_count": 14,
   "metadata": {},
   "outputs": [],
   "source": [
    "string = 'Some new text[I 20:09:12.257 NotebookApp] Saving file at /401/2 Week - Tuesday.ipynb\\n[I 20:09:24.727 NotebookApp] Saving file at /401/1 Week - Tuesday.ipynb\\n[I 20:13:12.253 NotebookApp] Saving file at /401/2 Week - Tuesday.ipynb\\n[I 20:15:12.774 NotebookApp] Saving file at /401/2 Week - Tuesday.ipynb\\n[I 20:17:12.257 NotebookApp] Saving file at /401/2 Week - Tuesday.ipynb\\n[I 20:19:12.256 NotebookApp] Saving file at /401/2 Week - Tuesday.ipynb\\n[I 20:23:12.273 NotebookApp] Saving file at /401/2 Week - Tuesday.ipynb\\n[I 20:25:12.269 NotebookApp] Saving file at /401/2 Week - Tuesday.ipynb\\n[I 20:27:12.273 NotebookApp] Saving file at /401/2 Week - Tuesday.ipynb\\n[I 20:29:12.268 NotebookApp] Saving file at /401/2 Week - Tuesday.ipynb\\nmore text'"
   ]
  },
  {
   "cell_type": "code",
   "execution_count": 18,
   "metadata": {},
   "outputs": [
    {
     "data": {
      "text/plain": [
       "'Some new text[I 20:09:12.257 NotebookApp] Saving file at /401/2 Week - Tuesday.ipynb\\n[I 20:09:24.727 NotebookApp] Saving file at /401/1 Week - Tuesday.ipynb\\n[I 20:13:12.253 NotebookApp] Saving file at /401/2 Week - Tuesday.ipynb\\n[I 20:15:12.774 NotebookApp] Saving file at /401/2 Week - Tuesday.ipynb\\n[I 20:17:12.257 NotebookApp] Saving file at /401/2 Week - Tuesday.ipynb\\n[I 20:19:12.256 NotebookApp] Saving file at /401/2 Week - Tuesday.ipynb\\n[I 20:23:12.273 NotebookApp] Saving file at /401/2 Week - Tuesday.ipynb\\n[I 20:25:12.269 NotebookApp] Saving file at /401/2 Week - Tuesday.ipynb\\n[I 20:27:12.273 NotebookApp] Saving file at /401/2 Week - Tuesday.ipynb\\n[I 20:29:12.268 NotebookApp] Saving file at /401/2 Week - Tuesday.ipynb\\nmore text'"
      ]
     },
     "execution_count": 18,
     "metadata": {},
     "output_type": "execute_result"
    }
   ],
   "source": [
    "f = open('test.txt', mode='r+')\n",
    "f.write(string)\n",
    "f.read()\n",
    "f.close()\n",
    "f = open('test.txt', mode='r+')\n",
    "f.read()"
   ]
  },
  {
   "cell_type": "code",
   "execution_count": 26,
   "metadata": {},
   "outputs": [],
   "source": [
    "try:\n",
    "    'djflksdj'+8\n",
    "except:\n",
    "    pass"
   ]
  },
  {
   "cell_type": "code",
   "execution_count": 42,
   "metadata": {},
   "outputs": [],
   "source": [
    "def stats():\n",
    "    path = input('Path: ')\n",
    "    fileName = input('Filename: ')\n",
    "    \n",
    "    fileString = open(path+fileName, mode='r')\n",
    "    fileString = fileString.read()\n",
    "    \n",
    "    lines = fileString.count('\\n')\n",
    "    words = fileString.count(' ')+2\n",
    "    chars = len(fileString)\n",
    "    \n",
    "    print('Lines: {}, Words: {}, Characters: {}'.format(lines, words, chars))\n",
    "\n"
   ]
  },
  {
   "cell_type": "code",
   "execution_count": 46,
   "metadata": {},
   "outputs": [
    {
     "name": "stdout",
     "output_type": "stream",
     "text": [
      "Path: ~Desktop/dev/depaul/401/\n",
      "Filename: test.txt\n"
     ]
    },
    {
     "ename": "FileNotFoundError",
     "evalue": "[Errno 2] No such file or directory: '~Desktop/dev/depaul/401/test.txt'",
     "output_type": "error",
     "traceback": [
      "\u001b[0;31m---------------------------------------------------------------------------\u001b[0m",
      "\u001b[0;31mFileNotFoundError\u001b[0m                         Traceback (most recent call last)",
      "\u001b[0;32m<ipython-input-46-7aaab5f592e6>\u001b[0m in \u001b[0;36m<module>\u001b[0;34m()\u001b[0m\n\u001b[0;32m----> 1\u001b[0;31m \u001b[0mstats\u001b[0m\u001b[0;34m(\u001b[0m\u001b[0;34m)\u001b[0m\u001b[0;34m\u001b[0m\u001b[0m\n\u001b[0m",
      "\u001b[0;32m<ipython-input-42-258971d35f6a>\u001b[0m in \u001b[0;36mstats\u001b[0;34m()\u001b[0m\n\u001b[1;32m      3\u001b[0m     \u001b[0mfileName\u001b[0m \u001b[0;34m=\u001b[0m \u001b[0minput\u001b[0m\u001b[0;34m(\u001b[0m\u001b[0;34m'Filename: '\u001b[0m\u001b[0;34m)\u001b[0m\u001b[0;34m\u001b[0m\u001b[0m\n\u001b[1;32m      4\u001b[0m \u001b[0;34m\u001b[0m\u001b[0m\n\u001b[0;32m----> 5\u001b[0;31m     \u001b[0mfileString\u001b[0m \u001b[0;34m=\u001b[0m \u001b[0mopen\u001b[0m\u001b[0;34m(\u001b[0m\u001b[0mpath\u001b[0m\u001b[0;34m+\u001b[0m\u001b[0mfileName\u001b[0m\u001b[0;34m,\u001b[0m \u001b[0mmode\u001b[0m\u001b[0;34m=\u001b[0m\u001b[0;34m'r'\u001b[0m\u001b[0;34m)\u001b[0m\u001b[0;34m\u001b[0m\u001b[0m\n\u001b[0m\u001b[1;32m      6\u001b[0m     \u001b[0mfileString\u001b[0m \u001b[0;34m=\u001b[0m \u001b[0mfileString\u001b[0m\u001b[0;34m.\u001b[0m\u001b[0mread\u001b[0m\u001b[0;34m(\u001b[0m\u001b[0;34m)\u001b[0m\u001b[0;34m\u001b[0m\u001b[0m\n\u001b[1;32m      7\u001b[0m \u001b[0;34m\u001b[0m\u001b[0m\n",
      "\u001b[0;31mFileNotFoundError\u001b[0m: [Errno 2] No such file or directory: '~Desktop/dev/depaul/401/test.txt'"
     ]
    }
   ],
   "source": [
    "stats()"
   ]
  },
  {
   "cell_type": "code",
   "execution_count": null,
   "metadata": {},
   "outputs": [],
   "source": []
  }
 ],
 "metadata": {
  "kernelspec": {
   "display_name": "Python 3",
   "language": "python",
   "name": "python3"
  },
  "language_info": {
   "codemirror_mode": {
    "name": "ipython",
    "version": 3
   },
   "file_extension": ".py",
   "mimetype": "text/x-python",
   "name": "python",
   "nbconvert_exporter": "python",
   "pygments_lexer": "ipython3",
   "version": "3.6.0"
  }
 },
 "nbformat": 4,
 "nbformat_minor": 2
}
