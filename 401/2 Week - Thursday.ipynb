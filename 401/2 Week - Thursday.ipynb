{
 "cells": [
  {
   "cell_type": "markdown",
   "metadata": {},
   "source": [
    "# Test review\n",
    "\n",
    "-Code snippets\n",
    "-General concepts\n",
    "-Multiple choice (25 questions)\n",
    "\n",
    "## Chapter 2\n",
    "What is an algorithm?\n",
    "Software vs hardware\n",
    "How does the computer \"see\" a program?\n",
    "\n",
    "## Chapter 3 - 5\n",
    "What is a function?\n",
    "What are the Python operators?\n",
    "-Comparison, assignments\n",
    "Branching (if / else)\n",
    "Looping\n",
    "Variables and their rules\n",
    "-Valid variable names\n",
    "One, two, multi condition\n",
    "Data types (Strings, lists, integers, floats)\n",
    "-name='Doe'\n",
    "-'John'+name\n",
    "-' {} '.format(x)\n",
    "-Properties of lists"
   ]
  }
 ],
 "metadata": {
  "kernelspec": {
   "display_name": "Python 3",
   "language": "python",
   "name": "python3"
  },
  "language_info": {
   "codemirror_mode": {
    "name": "ipython",
    "version": 3
   },
   "file_extension": ".py",
   "mimetype": "text/x-python",
   "name": "python",
   "nbconvert_exporter": "python",
   "pygments_lexer": "ipython3",
   "version": "3.6.0"
  }
 },
 "nbformat": 4,
 "nbformat_minor": 2
}
