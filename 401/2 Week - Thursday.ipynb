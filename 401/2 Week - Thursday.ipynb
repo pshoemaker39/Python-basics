{
 "cells": [
  {
   "cell_type": "markdown",
   "metadata": {},
   "source": [
    "# Test review\n",
    "\n",
    "- Code snippets\n",
    "- General concepts\n",
    "- Multiple choice (25 questions)\n",
    "\n",
    "## Chapter 2\n",
    "* What is an algorithm?\n",
    "* Software vs hardware\n",
    "* How does the computer \"see\" a program?\n",
    "\n",
    "## Chapter 3 - 5\n",
    "* What is a function?\n",
    "* What are the Python operators?\n",
    "* -Comparison, assignments\n",
    "* Branching (if / else)\n",
    "* Looping\n",
    "* Variables and their rules\n",
    "* -Valid variable names\n",
    "* One, two, multi condition\n",
    "* Data types (Strings, lists, integers, floats)\n",
    "* -name='Doe'\n",
    "* -'John'+name\n",
    "* -' {} '.format(x)\n",
    "* -Properties of lists"
   ]
  },
  {
   "cell_type": "code",
   "execution_count": 1,
   "metadata": {},
   "outputs": [],
   "source": [
    "from IPython.display import Image"
   ]
  },
  {
   "cell_type": "code",
   "execution_count": 4,
   "metadata": {},
   "outputs": [],
   "source": [
    "f = open('test.txt', mode='r+')"
   ]
  },
  {
   "cell_type": "code",
   "execution_count": 5,
   "metadata": {},
   "outputs": [
    {
     "data": {
      "text/plain": [
       "'Some new text[I 20:09:12.257 NotebookApp] Saving file at /401/2 Week - Tuesday.ipynb\\n[I 20:09:24.727 NotebookApp] Saving file at /401/1 Week - Tuesday.ipynb\\n[I 20:13:12.253 NotebookApp] Saving file at /401/2 Week - Tuesday.ipynb\\n[I 20:15:12.774 NotebookApp] Saving file at /401/2 Week - Tuesday.ipynb\\n[I 20:17:12.257 NotebookApp] Saving file at /401/2 Week - Tuesday.ipynb\\n[I 20:19:12.256 NotebookApp] Saving file at /401/2 Week - Tuesday.ipynb\\n[I 20:23:12.273 NotebookApp] Saving file at /401/2 Week - Tuesday.ipynb\\n[I 20:25:12.269 NotebookApp] Saving file at /401/2 Week - Tuesday.ipynb\\n[I 20:27:12.273 NotebookApp] Saving file at /401/2 Week - Tuesday.ipynb\\n[I 20:29:12.268 NotebookApp] Saving file at /401/2 Week - Tuesday.ipynb\\n'"
      ]
     },
     "execution_count": 5,
     "metadata": {},
     "output_type": "execute_result"
    }
   ],
   "source": [
    "f.read()"
   ]
  },
  {
   "cell_type": "code",
   "execution_count": 6,
   "metadata": {},
   "outputs": [
    {
     "data": {
      "text/plain": [
       "9"
      ]
     },
     "execution_count": 6,
     "metadata": {},
     "output_type": "execute_result"
    }
   ],
   "source": [
    "f.write('more text')"
   ]
  },
  {
   "cell_type": "code",
   "execution_count": null,
   "metadata": {},
   "outputs": [],
   "source": [
    "f.red"
   ]
  }
 ],
 "metadata": {
  "kernelspec": {
   "display_name": "Python 3",
   "language": "python",
   "name": "python3"
  },
  "language_info": {
   "codemirror_mode": {
    "name": "ipython",
    "version": 3
   },
   "file_extension": ".py",
   "mimetype": "text/x-python",
   "name": "python",
   "nbconvert_exporter": "python",
   "pygments_lexer": "ipython3",
   "version": "3.6.0"
  }
 },
 "nbformat": 4,
 "nbformat_minor": 2
}
