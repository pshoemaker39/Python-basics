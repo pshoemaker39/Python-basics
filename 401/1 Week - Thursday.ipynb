{
 "cells": [
  {
   "cell_type": "code",
   "execution_count": 28,
   "metadata": {},
   "outputs": [],
   "source": [
    "import math"
   ]
  },
  {
   "cell_type": "markdown",
   "metadata": {},
   "source": [
    "# Class Example\n",
    "\n",
    "Poblem 1\n",
    "\n",
    "(Function)\n",
    "\n",
    "Interest on a credit card’s unpaid balance is calculated using the average daily balance. Suppose that the netBalance is the balance shown in the bill, payment is the payment made. d1 is the number of days in the billing cycle, and d2 is the number of days’ payment is made before the billing cycle. Then, the average daily balance is:\n",
    "\n",
    "averageDailyBalance = (netBalance * d1 – payment * d2)/d1\n",
    "\n",
    "if the interest rate per month is, say 0.0152, then the interest on the unpaid balance is:\n",
    "\n",
    "interest = averageDailyBalance * 0.0152\n",
    "\n",
    "Write a program that accepts as input netBalance, payment, d1, d2, and interest rate per month. The program outputs the interest.\n",
    "\n",
    "The program must use a function, calAverageDailyBal, to calculate and return averageDailyBalance.\n",
    "\n",
    "Problem2\n",
    "\n",
    "(If/else)\n",
    "\n",
    "A box of cookies can hold 24 cookies, and a container can hold 75 boxes of cookies. \n",
    "Write a program that prompts the user to enter the total number of cookies. \n",
    "The program then outputs the number of boxes and the number of containers to ship the cookies. \n",
    "If the last box is not a full box, discard it and output the number of leftover cookies. \n",
    "Similarly, if the last container contains less than the number of specified boxes, you can discard it and output the number of leftover boxes"
   ]
  },
  {
   "cell_type": "code",
   "execution_count": 2,
   "metadata": {},
   "outputs": [
    {
     "name": "stdout",
     "output_type": "stream",
     "text": [
      "Enter balance: 9000\n",
      "Enter payment: 99\n",
      "Days in cycle: 9\n",
      "Days before billing cycle: 9\n",
      "Interest: 0\n",
      "net balance: 9000.0, interest amount: 0.0\n"
     ]
    }
   ],
   "source": [
    "#Problem 1\n",
    "def getBalanceData():\n",
    "    'gets balance data from user'\n",
    "    \n",
    "    netBalance = input(\"Enter balance: \")\n",
    "    if(netBalance =='exit'):\n",
    "        return None\n",
    "    else:\n",
    "        netBalance = float(netBalance)\n",
    "    payment = float(input(\"Enter payment: \"))\n",
    "    d1 = int(input(\"Days in cycle: \"))\n",
    "    d2 = int(input(\"Days before billing cycle: \"))\n",
    "    interest = float(input(\"Interest: \"))\n",
    "    \n",
    "    calAverageDailyBal(netBalance, payment, d1, d2, interest)\n",
    "\n",
    "def calAverageDailyBal(netBalance, payment, d1, d2, interest):\n",
    "    'returns interest amount based on user input'\n",
    "\n",
    "    averageDailyBalance = ((netBalance*d1)-(payment*d2))/d1\n",
    "    \n",
    "    interestAmount = averageDailyBalance*interest\n",
    "    \n",
    "    print(\"net balance: {}, interest amount: {}\".format(netBalance, interestAmount))    \n",
    "    \n",
    "    return(interestAmount)\n",
    "\n",
    "getBalanceData()"
   ]
  },
  {
   "cell_type": "code",
   "execution_count": null,
   "metadata": {},
   "outputs": [],
   "source": [
    "getBalanceData()"
   ]
  },
  {
   "cell_type": "code",
   "execution_count": 12,
   "metadata": {},
   "outputs": [
    {
     "name": "stdout",
     "output_type": "stream",
     "text": [
      "Total number of cookies? 5\n"
     ]
    },
    {
     "data": {
      "text/plain": [
       "'Complete Boxes: 0, Left Over Cookies: 5, Complete Containers: 0, Left Over Boxes: 0'"
      ]
     },
     "execution_count": 12,
     "metadata": {},
     "output_type": "execute_result"
    }
   ],
   "source": [
    "#Problem 2\n",
    "\n",
    "def getCookies():\n",
    "    typeCorrect = False\n",
    "    while(typeCorrect != True):\n",
    "        cookies = input(\"Total number of cookies? \")\n",
    "        try:\n",
    "            cookies = int(cookies)\n",
    "            typeCorrect = True\n",
    "        except:\n",
    "            typeCorrect = False\n",
    "    return (cookies)\n",
    "            \n",
    "def cookieCalculator(cookies):\n",
    "    boxSize = 24\n",
    "    containerSize = 75\n",
    "    \n",
    "    boxes = (cookies//boxSize)\n",
    "    lo_boxes = (cookies%boxSize)\n",
    "    \n",
    "    containers = (boxes//containerSize)\n",
    "    lo_containers = (boxes%containerSize)\n",
    "    \n",
    "    return(\"Complete Boxes: {}, Left Over Cookies: {}, Complete Containers: {}, Left Over Boxes: {}\".format(boxes, lo_boxes, containers, lo_containers))\n",
    "\n",
    "\n",
    "cookieCalculator(getCookies())"
   ]
  },
  {
   "cell_type": "code",
   "execution_count": 14,
   "metadata": {},
   "outputs": [],
   "source": [
    "def tuples(c,d):\n",
    "    return(c*10, d*10)\n",
    "\n",
    "a,b = tuples(5, 10)"
   ]
  },
  {
   "cell_type": "code",
   "execution_count": 15,
   "metadata": {},
   "outputs": [
    {
     "name": "stdout",
     "output_type": "stream",
     "text": [
      "50\n",
      "100\n"
     ]
    }
   ],
   "source": [
    "print(a)\n",
    "print(b)"
   ]
  },
  {
   "cell_type": "code",
   "execution_count": 13,
   "metadata": {},
   "outputs": [
    {
     "name": "stdout",
     "output_type": "stream",
     "text": [
      "check types: 0\n",
      "<class 'str'>\n"
     ]
    }
   ],
   "source": [
    "x = input(\"check types: \")\n",
    "print(type(x))"
   ]
  },
  {
   "cell_type": "code",
   "execution_count": 5,
   "metadata": {},
   "outputs": [],
   "source": [
    "x = 5\n",
    "y = int(6)"
   ]
  },
  {
   "cell_type": "code",
   "execution_count": 6,
   "metadata": {},
   "outputs": [
    {
     "data": {
      "text/plain": [
       "30"
      ]
     },
     "execution_count": 6,
     "metadata": {},
     "output_type": "execute_result"
    }
   ],
   "source": [
    "x*y"
   ]
  },
  {
   "cell_type": "code",
   "execution_count": 11,
   "metadata": {},
   "outputs": [
    {
     "name": "stdout",
     "output_type": "stream",
     "text": [
      "1.2\n"
     ]
    }
   ],
   "source": [
    "z = y/x\n",
    "print(z)"
   ]
  },
  {
   "cell_type": "code",
   "execution_count": 9,
   "metadata": {},
   "outputs": [
    {
     "data": {
      "text/plain": [
       "6.898648307306074"
      ]
     },
     "execution_count": 9,
     "metadata": {},
     "output_type": "execute_result"
    }
   ],
   "source": [
    "x**z"
   ]
  },
  {
   "cell_type": "code",
   "execution_count": 10,
   "metadata": {},
   "outputs": [
    {
     "data": {
      "text/plain": [
       "6.0"
      ]
     },
     "execution_count": 10,
     "metadata": {},
     "output_type": "execute_result"
    }
   ],
   "source": [
    "x*z"
   ]
  },
  {
   "cell_type": "code",
   "execution_count": 12,
   "metadata": {},
   "outputs": [],
   "source": [
    "b = int()"
   ]
  },
  {
   "cell_type": "code",
   "execution_count": 13,
   "metadata": {},
   "outputs": [
    {
     "data": {
      "text/plain": [
       "0"
      ]
     },
     "execution_count": 13,
     "metadata": {},
     "output_type": "execute_result"
    }
   ],
   "source": [
    "b"
   ]
  },
  {
   "cell_type": "code",
   "execution_count": 14,
   "metadata": {},
   "outputs": [],
   "source": [
    "price = 5.9"
   ]
  },
  {
   "cell_type": "code",
   "execution_count": 15,
   "metadata": {},
   "outputs": [],
   "source": [
    "price2 = int(price)"
   ]
  },
  {
   "cell_type": "code",
   "execution_count": 20,
   "metadata": {},
   "outputs": [],
   "source": [
    "r = int(price2/price)"
   ]
  },
  {
   "cell_type": "code",
   "execution_count": 21,
   "metadata": {},
   "outputs": [
    {
     "data": {
      "text/plain": [
       "0"
      ]
     },
     "execution_count": 21,
     "metadata": {},
     "output_type": "execute_result"
    }
   ],
   "source": [
    "r"
   ]
  },
  {
   "cell_type": "code",
   "execution_count": 22,
   "metadata": {},
   "outputs": [
    {
     "data": {
      "text/plain": [
       "0.0"
      ]
     },
     "execution_count": 22,
     "metadata": {},
     "output_type": "execute_result"
    }
   ],
   "source": [
    "float(r)"
   ]
  },
  {
   "cell_type": "code",
   "execution_count": 25,
   "metadata": {},
   "outputs": [],
   "source": [
    "myString = 'String'"
   ]
  },
  {
   "cell_type": "code",
   "execution_count": 41,
   "metadata": {},
   "outputs": [
    {
     "name": "stdout",
     "output_type": "stream",
     "text": [
      "S\n",
      "t\n",
      "r\n",
      "i\n",
      "n\n",
      "g\n",
      "gnirtS\n"
     ]
    }
   ],
   "source": [
    "x = list()\n",
    "i = 0\n",
    "r = ''\n",
    "\n",
    "while(i<len(myString)):\n",
    "    print(myString[i])\n",
    "    x.append(myString[i])\n",
    "    i=i+1\n",
    "\n",
    "x.reverse()\n",
    "\n",
    "for y in x:\n",
    "    r=r+y\n",
    "\n",
    "print(r)\n",
    "    "
   ]
  },
  {
   "cell_type": "code",
   "execution_count": 42,
   "metadata": {},
   "outputs": [],
   "source": [
    "a = 3"
   ]
  },
  {
   "cell_type": "code",
   "execution_count": 43,
   "metadata": {},
   "outputs": [],
   "source": [
    "b = 4"
   ]
  },
  {
   "cell_type": "code",
   "execution_count": 52,
   "metadata": {},
   "outputs": [],
   "source": [
    "c = math.sqrt(a**2 + b**2)"
   ]
  },
  {
   "cell_type": "code",
   "execution_count": 45,
   "metadata": {},
   "outputs": [
    {
     "data": {
      "text/plain": [
       "5.0"
      ]
     },
     "execution_count": 45,
     "metadata": {},
     "output_type": "execute_result"
    }
   ],
   "source": [
    "c"
   ]
  },
  {
   "cell_type": "code",
   "execution_count": 56,
   "metadata": {},
   "outputs": [
    {
     "data": {
      "text/plain": [
       "True"
      ]
     },
     "execution_count": 56,
     "metadata": {},
     "output_type": "execute_result"
    }
   ],
   "source": [
    "type(c) == float"
   ]
  },
  {
   "cell_type": "code",
   "execution_count": 109,
   "metadata": {},
   "outputs": [
    {
     "name": "stdout",
     "output_type": "stream",
     "text": [
      "2\n"
     ]
    }
   ],
   "source": [
    "#for i in range(begin, end(<), increment)\n",
    "for value in range(2,16,100):\n",
    "    print(value)"
   ]
  },
  {
   "cell_type": "code",
   "execution_count": 116,
   "metadata": {},
   "outputs": [
    {
     "name": "stdout",
     "output_type": "stream",
     "text": [
      "o\n",
      "l\n",
      "l\n",
      "e\n",
      "h\n"
     ]
    }
   ],
   "source": [
    "name = 'hello'\n",
    "for char in range(len(name)-1,-1,-1):\n",
    "    print(name[char])"
   ]
  },
  {
   "cell_type": "code",
   "execution_count": 3,
   "metadata": {},
   "outputs": [],
   "source": [
    "a = 9"
   ]
  },
  {
   "cell_type": "code",
   "execution_count": 4,
   "metadata": {},
   "outputs": [],
   "source": [
    "b = a"
   ]
  },
  {
   "cell_type": "code",
   "execution_count": 5,
   "metadata": {},
   "outputs": [],
   "source": [
    "b = 10"
   ]
  },
  {
   "cell_type": "code",
   "execution_count": 6,
   "metadata": {},
   "outputs": [
    {
     "data": {
      "text/plain": [
       "9"
      ]
     },
     "execution_count": 6,
     "metadata": {},
     "output_type": "execute_result"
    }
   ],
   "source": [
    "a"
   ]
  },
  {
   "cell_type": "code",
   "execution_count": 1,
   "metadata": {},
   "outputs": [
    {
     "ename": "NameError",
     "evalue": "name 'b' is not defined",
     "output_type": "error",
     "traceback": [
      "\u001b[0;31m---------------------------------------------------------------------------\u001b[0m",
      "\u001b[0;31mNameError\u001b[0m                                 Traceback (most recent call last)",
      "\u001b[0;32m<ipython-input-1-89e6c98d9288>\u001b[0m in \u001b[0;36m<module>\u001b[0;34m()\u001b[0m\n\u001b[0;32m----> 1\u001b[0;31m \u001b[0mb\u001b[0m\u001b[0;34m\u001b[0m\u001b[0m\n\u001b[0m",
      "\u001b[0;31mNameError\u001b[0m: name 'b' is not defined"
     ]
    }
   ],
   "source": [
    "b"
   ]
  },
  {
   "cell_type": "code",
   "execution_count": null,
   "metadata": {},
   "outputs": [],
   "source": []
  }
 ],
 "metadata": {
  "kernelspec": {
   "display_name": "Python 3",
   "language": "python",
   "name": "python3"
  },
  "language_info": {
   "codemirror_mode": {
    "name": "ipython",
    "version": 3
   },
   "file_extension": ".py",
   "mimetype": "text/x-python",
   "name": "python",
   "nbconvert_exporter": "python",
   "pygments_lexer": "ipython3",
   "version": "3.6.0"
  }
 },
 "nbformat": 4,
 "nbformat_minor": 2
}
