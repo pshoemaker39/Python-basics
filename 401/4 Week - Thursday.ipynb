{
 "cells": [
  {
   "cell_type": "code",
   "execution_count": 6,
   "metadata": {},
   "outputs": [],
   "source": [
    "## Exam reveiw\n",
    "# 50 multiple choice questions\n",
    "# Chapters 5 - 10\n",
    "# Multiple choice - Code snippets\n",
    "# Variable types\n",
    "# Set operations (intersection, set difference)\n",
    "# Tuples\n",
    "# Namespaces, scopes\n",
    "# Functions \n",
    "# Loops\n",
    "# Two dimensional list\n",
    "# Classes (__init__, self)\n",
    "#  mutators, accessors\n",
    "# Try: Except:\n"
   ]
  },
  {
   "cell_type": "code",
   "execution_count": 12,
   "metadata": {},
   "outputs": [],
   "source": [
    "class Course:\n",
    "    def __init__(self, title, time):\n",
    "        self.title = title\n",
    "        self.time = time\n",
    "    \n",
    "    def getCourseTitle(self):\n",
    "        return self.title\n",
    "    \n",
    "    def setCourseTitle(self, title):\n",
    "        self.title = title\n",
    "        \n",
    "    def getCourseTime(self):\n",
    "        return self.time\n",
    "    \n",
    "    def setCourseTime(self, time):\n",
    "        self.time = time\n",
    "        \n",
    "\n",
    "class Student:\n",
    "    def __init__(self, name, major):\n",
    "        self.name = name\n",
    "        self.major = major\n",
    "    \n",
    "    def getMajor(self):\n",
    "        return self.major\n",
    "    \n",
    "    def setMajor(self, major):\n",
    "        self.major = major\n",
    "        \n",
    "    def setCourse(self, course):\n",
    "        self.course = course\n",
    "        \n",
    "    def getCourseTime(self):\n",
    "        return self.course.getCourseTime()\n",
    "        "
   ]
  },
  {
   "cell_type": "code",
   "execution_count": 9,
   "metadata": {},
   "outputs": [],
   "source": [
    "aStudent = Student('Price', 'Finance')"
   ]
  },
  {
   "cell_type": "code",
   "execution_count": 10,
   "metadata": {},
   "outputs": [
    {
     "data": {
      "text/plain": [
       "'Finance'"
      ]
     },
     "execution_count": 10,
     "metadata": {},
     "output_type": "execute_result"
    }
   ],
   "source": [
    "aStudent.getMajor()"
   ]
  },
  {
   "cell_type": "code",
   "execution_count": 13,
   "metadata": {},
   "outputs": [],
   "source": [
    "aCourse = Course('Accounting', 'Night')"
   ]
  },
  {
   "cell_type": "code",
   "execution_count": 15,
   "metadata": {},
   "outputs": [
    {
     "data": {
      "text/plain": [
       "'Night'"
      ]
     },
     "execution_count": 15,
     "metadata": {},
     "output_type": "execute_result"
    }
   ],
   "source": [
    "aCourse.getCourseTime()"
   ]
  },
  {
   "cell_type": "code",
   "execution_count": 16,
   "metadata": {},
   "outputs": [],
   "source": [
    "aStudent.setCourse(aCourse)"
   ]
  },
  {
   "cell_type": "code",
   "execution_count": null,
   "metadata": {},
   "outputs": [],
   "source": [
    "aStudent.get"
   ]
  }
 ],
 "metadata": {
  "kernelspec": {
   "display_name": "Python 3",
   "language": "python",
   "name": "python3"
  },
  "language_info": {
   "codemirror_mode": {
    "name": "ipython",
    "version": 3
   },
   "file_extension": ".py",
   "mimetype": "text/x-python",
   "name": "python",
   "nbconvert_exporter": "python",
   "pygments_lexer": "ipython3",
   "version": "3.7.0"
  }
 },
 "nbformat": 4,
 "nbformat_minor": 2
}
