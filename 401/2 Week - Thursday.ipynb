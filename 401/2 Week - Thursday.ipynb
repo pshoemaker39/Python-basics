{
 "cells": [
  {
   "cell_type": "markdown",
   "metadata": {},
   "source": [
    "# Test review\n",
    "\n",
    "- Code snippets\n",
    "- General concepts\n",
    "- Multiple choice (25 questions)\n",
    "\n",
    "## Chapter 2\n",
    "* What is an algorithm?\n",
    "* Software vs hardware\n",
    "* How does the computer \"see\" a program?\n",
    "\n",
    "## Chapter 3 - 5\n",
    "* What is a function?\n",
    "* What are the Python operators?\n",
    "* -Comparison, assignments\n",
    "* Branching (if / else)\n",
    "* Looping\n",
    "* Variables and their rules\n",
    "* -Valid variable names\n",
    "* One, two, multi condition\n",
    "* Data types (Strings, lists, integers, floats)\n",
    "* -name='Doe'\n",
    "* -'John'+name\n",
    "* -' {} '.format(x)\n",
    "* -Properties of lists"
   ]
  },
  {
   "cell_type": "code",
   "execution_count": 1,
   "metadata": {},
   "outputs": [],
   "source": [
    "from IPython.display import Image"
   ]
  },
  {
   "cell_type": "code",
   "execution_count": 4,
   "metadata": {},
   "outputs": [],
   "source": [
    "f = open('test.txt', mode='r+')"
   ]
  },
  {
   "cell_type": "code",
   "execution_count": 5,
   "metadata": {},
   "outputs": [
    {
     "data": {
      "text/plain": [
       "'Some new text[I 20:09:12.257 NotebookApp] Saving file at /401/2 Week - Tuesday.ipynb\\n[I 20:09:24.727 NotebookApp] Saving file at /401/1 Week - Tuesday.ipynb\\n[I 20:13:12.253 NotebookApp] Saving file at /401/2 Week - Tuesday.ipynb\\n[I 20:15:12.774 NotebookApp] Saving file at /401/2 Week - Tuesday.ipynb\\n[I 20:17:12.257 NotebookApp] Saving file at /401/2 Week - Tuesday.ipynb\\n[I 20:19:12.256 NotebookApp] Saving file at /401/2 Week - Tuesday.ipynb\\n[I 20:23:12.273 NotebookApp] Saving file at /401/2 Week - Tuesday.ipynb\\n[I 20:25:12.269 NotebookApp] Saving file at /401/2 Week - Tuesday.ipynb\\n[I 20:27:12.273 NotebookApp] Saving file at /401/2 Week - Tuesday.ipynb\\n[I 20:29:12.268 NotebookApp] Saving file at /401/2 Week - Tuesday.ipynb\\n'"
      ]
     },
     "execution_count": 5,
     "metadata": {},
     "output_type": "execute_result"
    }
   ],
   "source": [
    "f.read()"
   ]
  },
  {
   "cell_type": "code",
   "execution_count": 6,
   "metadata": {},
   "outputs": [
    {
     "data": {
      "text/plain": [
       "9"
      ]
     },
     "execution_count": 6,
     "metadata": {},
     "output_type": "execute_result"
    }
   ],
   "source": [
    "f.write('more text')"
   ]
  },
  {
   "cell_type": "code",
   "execution_count": 8,
   "metadata": {},
   "outputs": [],
   "source": [
    "f.close()"
   ]
  },
  {
   "cell_type": "code",
   "execution_count": 9,
   "metadata": {},
   "outputs": [],
   "source": [
    "f = open('test.txt', mode='r+')"
   ]
  },
  {
   "cell_type": "code",
   "execution_count": 10,
   "metadata": {},
   "outputs": [
    {
     "data": {
      "text/plain": [
       "'Some new text[I 20:09:12.257 NotebookApp] Saving file at /401/2 Week - Tuesday.ipynb\\n[I 20:09:24.727 NotebookApp] Saving file at /401/1 Week - Tuesday.ipynb\\n[I 20:13:12.253 NotebookApp] Saving file at /401/2 Week - Tuesday.ipynb\\n[I 20:15:12.774 NotebookApp] Saving file at /401/2 Week - Tuesday.ipynb\\n[I 20:17:12.257 NotebookApp] Saving file at /401/2 Week - Tuesday.ipynb\\n[I 20:19:12.256 NotebookApp] Saving file at /401/2 Week - Tuesday.ipynb\\n[I 20:23:12.273 NotebookApp] Saving file at /401/2 Week - Tuesday.ipynb\\n[I 20:25:12.269 NotebookApp] Saving file at /401/2 Week - Tuesday.ipynb\\n[I 20:27:12.273 NotebookApp] Saving file at /401/2 Week - Tuesday.ipynb\\n[I 20:29:12.268 NotebookApp] Saving file at /401/2 Week - Tuesday.ipynb\\nmore text'"
      ]
     },
     "execution_count": 10,
     "metadata": {},
     "output_type": "execute_result"
    }
   ],
   "source": [
    "f.read()"
   ]
  },
  {
   "cell_type": "code",
   "execution_count": 11,
   "metadata": {},
   "outputs": [
    {
     "data": {
      "text/plain": [
       "_io.TextIOWrapper"
      ]
     },
     "execution_count": 11,
     "metadata": {},
     "output_type": "execute_result"
    }
   ],
   "source": [
    "type(f)"
   ]
  },
  {
   "cell_type": "code",
   "execution_count": 13,
   "metadata": {},
   "outputs": [
    {
     "data": {
      "text/plain": [
       "''"
      ]
     },
     "execution_count": 13,
     "metadata": {},
     "output_type": "execute_result"
    }
   ],
   "source": [
    "f = open('test.txt', mode='wb')\n",
    "f.close()\n",
    "f = open('test.txt', mode='r+')\n",
    "f.read()\n",
    "f.close()"
   ]
  },
  {
   "cell_type": "code",
   "execution_count": 14,
   "metadata": {},
   "outputs": [],
   "source": [
    "string = 'Some new text[I 20:09:12.257 NotebookApp] Saving file at /401/2 Week - Tuesday.ipynb\\n[I 20:09:24.727 NotebookApp] Saving file at /401/1 Week - Tuesday.ipynb\\n[I 20:13:12.253 NotebookApp] Saving file at /401/2 Week - Tuesday.ipynb\\n[I 20:15:12.774 NotebookApp] Saving file at /401/2 Week - Tuesday.ipynb\\n[I 20:17:12.257 NotebookApp] Saving file at /401/2 Week - Tuesday.ipynb\\n[I 20:19:12.256 NotebookApp] Saving file at /401/2 Week - Tuesday.ipynb\\n[I 20:23:12.273 NotebookApp] Saving file at /401/2 Week - Tuesday.ipynb\\n[I 20:25:12.269 NotebookApp] Saving file at /401/2 Week - Tuesday.ipynb\\n[I 20:27:12.273 NotebookApp] Saving file at /401/2 Week - Tuesday.ipynb\\n[I 20:29:12.268 NotebookApp] Saving file at /401/2 Week - Tuesday.ipynb\\nmore text'"
   ]
  },
  {
   "cell_type": "code",
   "execution_count": 18,
   "metadata": {},
   "outputs": [
    {
     "data": {
      "text/plain": [
       "'Some new text[I 20:09:12.257 NotebookApp] Saving file at /401/2 Week - Tuesday.ipynb\\n[I 20:09:24.727 NotebookApp] Saving file at /401/1 Week - Tuesday.ipynb\\n[I 20:13:12.253 NotebookApp] Saving file at /401/2 Week - Tuesday.ipynb\\n[I 20:15:12.774 NotebookApp] Saving file at /401/2 Week - Tuesday.ipynb\\n[I 20:17:12.257 NotebookApp] Saving file at /401/2 Week - Tuesday.ipynb\\n[I 20:19:12.256 NotebookApp] Saving file at /401/2 Week - Tuesday.ipynb\\n[I 20:23:12.273 NotebookApp] Saving file at /401/2 Week - Tuesday.ipynb\\n[I 20:25:12.269 NotebookApp] Saving file at /401/2 Week - Tuesday.ipynb\\n[I 20:27:12.273 NotebookApp] Saving file at /401/2 Week - Tuesday.ipynb\\n[I 20:29:12.268 NotebookApp] Saving file at /401/2 Week - Tuesday.ipynb\\nmore text'"
      ]
     },
     "execution_count": 18,
     "metadata": {},
     "output_type": "execute_result"
    }
   ],
   "source": [
    "f = open('test.txt', mode='r+')\n",
    "f.write(string)\n",
    "f.read()\n",
    "f.close()\n",
    "f = open('test.txt', mode='r+')\n",
    "f.read()"
   ]
  },
  {
   "cell_type": "code",
   "execution_count": 26,
   "metadata": {},
   "outputs": [],
   "source": [
    "try:\n",
    "    'djflksdj'+8\n",
    "except:\n",
    "    pass"
   ]
  },
  {
   "cell_type": "code",
   "execution_count": 57,
   "metadata": {},
   "outputs": [],
   "source": [
    "def stats():\n",
    "    fileName = input('Filename: ')\n",
    "    \n",
    "    fileString = open(fileName, mode='r')\n",
    "    fileString = fileString.read()\n",
    "    \n",
    "    lines = fileString.count('\\n')+1\n",
    "    words = len(fileString.split())\n",
    "    chars = len(fileString)\n",
    "    \n",
    "    print('Lines: {}, Words: {}, Characters: {}'.format(lines, words, chars))"
   ]
  },
  {
   "cell_type": "code",
   "execution_count": 58,
   "metadata": {},
   "outputs": [
    {
     "name": "stdout",
     "output_type": "stream",
     "text": [
      "Filename: test.txt\n",
      "Lines: 11, Words: 104, Characters: 742\n",
      "CPU times: user 3.45 ms, sys: 2.01 ms, total: 5.46 ms\n",
      "Wall time: 3.09 s\n"
     ]
    }
   ],
   "source": [
    "#compare function run times\n",
    "time stats()"
   ]
  },
  {
   "cell_type": "code",
   "execution_count": 54,
   "metadata": {},
   "outputs": [],
   "source": [
    "def stats2():\n",
    "    fileName = input('Filename: ')\n",
    "    \n",
    "    fileString = open(fileName)\n",
    "    data = fileString.readlines()\n",
    "    lineCount = len(data)\n",
    "    wordCount = 0\n",
    "    charCount = 0\n",
    "    for line in data:\n",
    "        charCount += len(line)\n",
    "        temp = line.split()\n",
    "        wordCount += len(temp)\n",
    "    print('Lines: {}, Words: {}, Characters: {}'.format(lineCount, wordCount, charCount))"
   ]
  },
  {
   "cell_type": "code",
   "execution_count": 59,
   "metadata": {},
   "outputs": [
    {
     "name": "stdout",
     "output_type": "stream",
     "text": [
      "Filename: test.txt\n",
      "Lines: 11, Words: 104, Characters: 742\n",
      "CPU times: user 3.69 ms, sys: 2.25 ms, total: 5.94 ms\n",
      "Wall time: 3.01 s\n"
     ]
    }
   ],
   "source": [
    "#compare function run times\n",
    "time stats2()"
   ]
  },
  {
   "cell_type": "code",
   "execution_count": 69,
   "metadata": {},
   "outputs": [],
   "source": [
    "lst = ['abc','123','xyz']"
   ]
  },
  {
   "cell_type": "code",
   "execution_count": 74,
   "metadata": {},
   "outputs": [
    {
     "name": "stdout",
     "output_type": "stream",
     "text": [
      "a b c abc\n",
      "1 2 3 123\n",
      "x y z xyz\n"
     ]
    }
   ],
   "source": [
    "for l in lst:\n",
    "    for c in l:\n",
    "        print(c, end=' ')\n",
    "    print(l)"
   ]
  },
  {
   "cell_type": "code",
   "execution_count": 76,
   "metadata": {},
   "outputs": [
    {
     "data": {
      "text/plain": [
       "['abc', '123', 'xyz']"
      ]
     },
     "execution_count": 76,
     "metadata": {},
     "output_type": "execute_result"
    }
   ],
   "source": [
    "lst"
   ]
  },
  {
   "cell_type": "code",
   "execution_count": 87,
   "metadata": {},
   "outputs": [],
   "source": [
    "def avgavg(allGrades):\n",
    "    individualGrades = []\n",
    "    \n",
    "    for gradeList in allGrades:\n",
    "        individualGrades.append(sum(gradeList)/len(gradeList))\n",
    "        \n",
    "    print(individualGrades, (sum(individualGrades)) / len(individualGrades))\n",
    "        \n",
    "        \n",
    "## every students average\n",
    "## average class grade\n",
    "    "
   ]
  },
  {
   "cell_type": "code",
   "execution_count": 88,
   "metadata": {},
   "outputs": [],
   "source": [
    "g = [[95,92,86], [66,75,54],[89, 72,100],[34,0,0]]"
   ]
  },
  {
   "cell_type": "code",
   "execution_count": 86,
   "metadata": {},
   "outputs": [
    {
     "name": "stdout",
     "output_type": "stream",
     "text": [
      "[91.0, 65.0, 87.0, 11.333333333333334] 63.583333333333336\n"
     ]
    }
   ],
   "source": [
    "avgavg(g)"
   ]
  },
  {
   "cell_type": "code",
   "execution_count": null,
   "metadata": {},
   "outputs": [],
   "source": []
  }
 ],
 "metadata": {
  "kernelspec": {
   "display_name": "Python 3",
   "language": "python",
   "name": "python3"
  },
  "language_info": {
   "codemirror_mode": {
    "name": "ipython",
    "version": 3
   },
   "file_extension": ".py",
   "mimetype": "text/x-python",
   "name": "python",
   "nbconvert_exporter": "python",
   "pygments_lexer": "ipython3",
   "version": "3.6.0"
  }
 },
 "nbformat": 4,
 "nbformat_minor": 2
}
